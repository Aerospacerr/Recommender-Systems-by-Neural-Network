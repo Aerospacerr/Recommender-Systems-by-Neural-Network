{
  "nbformat": 4,
  "nbformat_minor": 0,
  "metadata": {
    "colab": {
      "name": "Copy of NN Recommender System",
      "provenance": [],
      "collapsed_sections": [],
      "authorship_tag": "ABX9TyMNyIyKabhcw4MKpvYdR2lG"
    },
    "kernelspec": {
      "name": "python3",
      "display_name": "Python 3"
    },
    "language_info": {
      "name": "python"
    }
  },
  "cells": [
    {
      "cell_type": "markdown",
      "source": [
        "# **NN RECOMMENDER SYSTEM**\n",
        "\n",
        "Here we start by importing libraries for getting the data.\n",
        "\n",
        "Actually, I used data by uploading Google Colab from my laptop, \n",
        "because of my laptop's lack of ram.\n",
        "\n",
        "Therefore, in order to be consistent and provide integrity in the code when you run, I searched and find this small downloading code to download Movielens 1M dataset. \n",
        "\n",
        "Here are the download code's imports:"
      ],
      "metadata": {
        "id": "qwdFosjakeP9"
      }
    },
    {
      "cell_type": "code",
      "execution_count": null,
      "metadata": {
        "id": "rFFN8KYtYxD3"
      },
      "outputs": [],
      "source": [
        "\n",
        "import io\n",
        "import os\n",
        "import math\n",
        "import copy\n",
        "import pickle\n",
        "import zipfile\n",
        "from textwrap import wrap\n",
        "from pathlib import Path\n",
        "from itertools import zip_longest\n",
        "from collections import defaultdict\n",
        "from urllib.error import URLError\n",
        "from urllib.request import urlopen\n",
        "from zipfile import ZipFile\n",
        "\n",
        "import numpy as np\n",
        "import pandas as pd"
      ]
    },
    {
      "cell_type": "markdown",
      "source": [
        "Data download code starts here:"
      ],
      "metadata": {
        "id": "Ug-E7nn6kdxq"
      }
    },
    {
      "cell_type": "code",
      "source": [
        "\n",
        "def try_download(url, download_path):\n",
        "    archive_name = url.split('/')[-1]\n",
        "    folder_name, _ = os.path.splitext(archive_name)\n",
        "    \n",
        "    try:\n",
        "        r = urlopen(url)\n",
        "    except URLError as e:\n",
        "        print('Cannot download the data. Error: %s' % s)\n",
        "        return \n",
        "\n",
        "    assert r.status == 200\n",
        "    data = r.read()\n",
        "\n",
        "    with zipfile.ZipFile(io.BytesIO(data)) as arch:\n",
        "        arch.extractall(download_path)\n",
        "        \n",
        "    print('The archive is extracted into folder: %s' % download_path)\n",
        "\n",
        "# It also includes reading the data\n",
        "def read_data(path):\n",
        "    files = {}\n",
        "    for filename in path.glob('*'):\n",
        "        if filename.suffix == '.csv':\n",
        "            files[filename.stem] = pd.read_csv(filename)\n",
        "        elif filename.suffix == '.dat':\n",
        "            if filename.stem == 'ratings':\n",
        "                columns = ['userId', 'movieId', 'rating', 'timestamp']\n",
        "            else:\n",
        "                columns = ['movieId', 'title', 'genres']\n",
        "            data = pd.read_csv(filename, sep='::', names=columns, engine='python')\n",
        "            files[filename.stem] = data\n",
        "    return files['ratings'], files['movies']"
      ],
      "metadata": {
        "id": "LPkcAMcDY0jZ"
      },
      "execution_count": null,
      "outputs": []
    },
    {
      "cell_type": "code",
      "source": [
        "# 1M Movielens dataset URL\n",
        "archive_url = f'http://files.grouplens.org/datasets/movielens/ml-1m.zip'\n",
        "download_path = Path.home() / 'data' / 'movielens'\n",
        "\n",
        "# Download dataset\n",
        "try_download(archive_url, download_path)\n",
        "\n",
        "# Pick one of the available folders and we are done\n",
        "ratings, movies = read_data(download_path /'ml-1m')"
      ],
      "metadata": {
        "colab": {
          "base_uri": "https://localhost:8080/"
        },
        "id": "7qzVBZb6Y4wc",
        "outputId": "a761a18a-9b93-4ac0-d1db-b2378d6ff8e3"
      },
      "execution_count": null,
      "outputs": [
        {
          "output_type": "stream",
          "name": "stdout",
          "text": [
            "The archive is extracted into folder: /root/data/movielens\n"
          ]
        }
      ]
    },
    {
      "cell_type": "markdown",
      "source": [
        "Let's quickly check what we have in the dataset:\n"
      ],
      "metadata": {
        "id": "U98Pcy0Ak3Ko"
      }
    },
    {
      "cell_type": "code",
      "source": [
        "ratings.sample(5)"
      ],
      "metadata": {
        "colab": {
          "base_uri": "https://localhost:8080/",
          "height": 206
        },
        "id": "ESRhTBj7aaqH",
        "outputId": "8ebd5582-7be9-43fb-ad04-97348f13ed35"
      },
      "execution_count": null,
      "outputs": [
        {
          "output_type": "execute_result",
          "data": {
            "text/html": [
              "\n",
              "  <div id=\"df-17ecd0bb-5f22-481f-a166-a13e0018b487\">\n",
              "    <div class=\"colab-df-container\">\n",
              "      <div>\n",
              "<style scoped>\n",
              "    .dataframe tbody tr th:only-of-type {\n",
              "        vertical-align: middle;\n",
              "    }\n",
              "\n",
              "    .dataframe tbody tr th {\n",
              "        vertical-align: top;\n",
              "    }\n",
              "\n",
              "    .dataframe thead th {\n",
              "        text-align: right;\n",
              "    }\n",
              "</style>\n",
              "<table border=\"1\" class=\"dataframe\">\n",
              "  <thead>\n",
              "    <tr style=\"text-align: right;\">\n",
              "      <th></th>\n",
              "      <th>userId</th>\n",
              "      <th>movieId</th>\n",
              "      <th>rating</th>\n",
              "      <th>timestamp</th>\n",
              "    </tr>\n",
              "  </thead>\n",
              "  <tbody>\n",
              "    <tr>\n",
              "      <th>449581</th>\n",
              "      <td>2772</td>\n",
              "      <td>1127</td>\n",
              "      <td>3</td>\n",
              "      <td>973094273</td>\n",
              "    </tr>\n",
              "    <tr>\n",
              "      <th>948970</th>\n",
              "      <td>5733</td>\n",
              "      <td>2105</td>\n",
              "      <td>5</td>\n",
              "      <td>958430698</td>\n",
              "    </tr>\n",
              "    <tr>\n",
              "      <th>542233</th>\n",
              "      <td>3336</td>\n",
              "      <td>2150</td>\n",
              "      <td>2</td>\n",
              "      <td>968096307</td>\n",
              "    </tr>\n",
              "    <tr>\n",
              "      <th>11310</th>\n",
              "      <td>86</td>\n",
              "      <td>904</td>\n",
              "      <td>5</td>\n",
              "      <td>977706640</td>\n",
              "    </tr>\n",
              "    <tr>\n",
              "      <th>152054</th>\n",
              "      <td>977</td>\n",
              "      <td>2916</td>\n",
              "      <td>4</td>\n",
              "      <td>975109962</td>\n",
              "    </tr>\n",
              "  </tbody>\n",
              "</table>\n",
              "</div>\n",
              "      <button class=\"colab-df-convert\" onclick=\"convertToInteractive('df-17ecd0bb-5f22-481f-a166-a13e0018b487')\"\n",
              "              title=\"Convert this dataframe to an interactive table.\"\n",
              "              style=\"display:none;\">\n",
              "        \n",
              "  <svg xmlns=\"http://www.w3.org/2000/svg\" height=\"24px\"viewBox=\"0 0 24 24\"\n",
              "       width=\"24px\">\n",
              "    <path d=\"M0 0h24v24H0V0z\" fill=\"none\"/>\n",
              "    <path d=\"M18.56 5.44l.94 2.06.94-2.06 2.06-.94-2.06-.94-.94-2.06-.94 2.06-2.06.94zm-11 1L8.5 8.5l.94-2.06 2.06-.94-2.06-.94L8.5 2.5l-.94 2.06-2.06.94zm10 10l.94 2.06.94-2.06 2.06-.94-2.06-.94-.94-2.06-.94 2.06-2.06.94z\"/><path d=\"M17.41 7.96l-1.37-1.37c-.4-.4-.92-.59-1.43-.59-.52 0-1.04.2-1.43.59L10.3 9.45l-7.72 7.72c-.78.78-.78 2.05 0 2.83L4 21.41c.39.39.9.59 1.41.59.51 0 1.02-.2 1.41-.59l7.78-7.78 2.81-2.81c.8-.78.8-2.07 0-2.86zM5.41 20L4 18.59l7.72-7.72 1.47 1.35L5.41 20z\"/>\n",
              "  </svg>\n",
              "      </button>\n",
              "      \n",
              "  <style>\n",
              "    .colab-df-container {\n",
              "      display:flex;\n",
              "      flex-wrap:wrap;\n",
              "      gap: 12px;\n",
              "    }\n",
              "\n",
              "    .colab-df-convert {\n",
              "      background-color: #E8F0FE;\n",
              "      border: none;\n",
              "      border-radius: 50%;\n",
              "      cursor: pointer;\n",
              "      display: none;\n",
              "      fill: #1967D2;\n",
              "      height: 32px;\n",
              "      padding: 0 0 0 0;\n",
              "      width: 32px;\n",
              "    }\n",
              "\n",
              "    .colab-df-convert:hover {\n",
              "      background-color: #E2EBFA;\n",
              "      box-shadow: 0px 1px 2px rgba(60, 64, 67, 0.3), 0px 1px 3px 1px rgba(60, 64, 67, 0.15);\n",
              "      fill: #174EA6;\n",
              "    }\n",
              "\n",
              "    [theme=dark] .colab-df-convert {\n",
              "      background-color: #3B4455;\n",
              "      fill: #D2E3FC;\n",
              "    }\n",
              "\n",
              "    [theme=dark] .colab-df-convert:hover {\n",
              "      background-color: #434B5C;\n",
              "      box-shadow: 0px 1px 3px 1px rgba(0, 0, 0, 0.15);\n",
              "      filter: drop-shadow(0px 1px 2px rgba(0, 0, 0, 0.3));\n",
              "      fill: #FFFFFF;\n",
              "    }\n",
              "  </style>\n",
              "\n",
              "      <script>\n",
              "        const buttonEl =\n",
              "          document.querySelector('#df-17ecd0bb-5f22-481f-a166-a13e0018b487 button.colab-df-convert');\n",
              "        buttonEl.style.display =\n",
              "          google.colab.kernel.accessAllowed ? 'block' : 'none';\n",
              "\n",
              "        async function convertToInteractive(key) {\n",
              "          const element = document.querySelector('#df-17ecd0bb-5f22-481f-a166-a13e0018b487');\n",
              "          const dataTable =\n",
              "            await google.colab.kernel.invokeFunction('convertToInteractive',\n",
              "                                                     [key], {});\n",
              "          if (!dataTable) return;\n",
              "\n",
              "          const docLinkHtml = 'Like what you see? Visit the ' +\n",
              "            '<a target=\"_blank\" href=https://colab.research.google.com/notebooks/data_table.ipynb>data table notebook</a>'\n",
              "            + ' to learn more about interactive tables.';\n",
              "          element.innerHTML = '';\n",
              "          dataTable['output_type'] = 'display_data';\n",
              "          await google.colab.output.renderOutput(dataTable, element);\n",
              "          const docLink = document.createElement('div');\n",
              "          docLink.innerHTML = docLinkHtml;\n",
              "          element.appendChild(docLink);\n",
              "        }\n",
              "      </script>\n",
              "    </div>\n",
              "  </div>\n",
              "  "
            ],
            "text/plain": [
              "        userId  movieId  rating  timestamp\n",
              "449581    2772     1127       3  973094273\n",
              "948970    5733     2105       5  958430698\n",
              "542233    3336     2150       2  968096307\n",
              "11310       86      904       5  977706640\n",
              "152054     977     2916       4  975109962"
            ]
          },
          "metadata": {},
          "execution_count": 4
        }
      ]
    },
    {
      "cell_type": "code",
      "source": [
        "movies.sample(5)"
      ],
      "metadata": {
        "colab": {
          "base_uri": "https://localhost:8080/",
          "height": 206
        },
        "id": "u_V2yv-Daxrw",
        "outputId": "cce7d838-45f9-4f11-8951-ea131ac7403d"
      },
      "execution_count": null,
      "outputs": [
        {
          "output_type": "execute_result",
          "data": {
            "text/html": [
              "\n",
              "  <div id=\"df-5183e36f-9b57-4b5a-9ff2-2ae5d10f4e3b\">\n",
              "    <div class=\"colab-df-container\">\n",
              "      <div>\n",
              "<style scoped>\n",
              "    .dataframe tbody tr th:only-of-type {\n",
              "        vertical-align: middle;\n",
              "    }\n",
              "\n",
              "    .dataframe tbody tr th {\n",
              "        vertical-align: top;\n",
              "    }\n",
              "\n",
              "    .dataframe thead th {\n",
              "        text-align: right;\n",
              "    }\n",
              "</style>\n",
              "<table border=\"1\" class=\"dataframe\">\n",
              "  <thead>\n",
              "    <tr style=\"text-align: right;\">\n",
              "      <th></th>\n",
              "      <th>movieId</th>\n",
              "      <th>title</th>\n",
              "      <th>genres</th>\n",
              "    </tr>\n",
              "  </thead>\n",
              "  <tbody>\n",
              "    <tr>\n",
              "      <th>1769</th>\n",
              "      <td>1837</td>\n",
              "      <td>Odd Couple II, The (1998)</td>\n",
              "      <td>Comedy</td>\n",
              "    </tr>\n",
              "    <tr>\n",
              "      <th>1697</th>\n",
              "      <td>1749</td>\n",
              "      <td>Leading Man, The (1996)</td>\n",
              "      <td>Romance</td>\n",
              "    </tr>\n",
              "    <tr>\n",
              "      <th>3213</th>\n",
              "      <td>3282</td>\n",
              "      <td>Different for Girls (1996)</td>\n",
              "      <td>Comedy</td>\n",
              "    </tr>\n",
              "    <tr>\n",
              "      <th>1723</th>\n",
              "      <td>1781</td>\n",
              "      <td>Further Gesture, A (1996)</td>\n",
              "      <td>Drama</td>\n",
              "    </tr>\n",
              "    <tr>\n",
              "      <th>150</th>\n",
              "      <td>152</td>\n",
              "      <td>Addiction, The (1995)</td>\n",
              "      <td>Horror</td>\n",
              "    </tr>\n",
              "  </tbody>\n",
              "</table>\n",
              "</div>\n",
              "      <button class=\"colab-df-convert\" onclick=\"convertToInteractive('df-5183e36f-9b57-4b5a-9ff2-2ae5d10f4e3b')\"\n",
              "              title=\"Convert this dataframe to an interactive table.\"\n",
              "              style=\"display:none;\">\n",
              "        \n",
              "  <svg xmlns=\"http://www.w3.org/2000/svg\" height=\"24px\"viewBox=\"0 0 24 24\"\n",
              "       width=\"24px\">\n",
              "    <path d=\"M0 0h24v24H0V0z\" fill=\"none\"/>\n",
              "    <path d=\"M18.56 5.44l.94 2.06.94-2.06 2.06-.94-2.06-.94-.94-2.06-.94 2.06-2.06.94zm-11 1L8.5 8.5l.94-2.06 2.06-.94-2.06-.94L8.5 2.5l-.94 2.06-2.06.94zm10 10l.94 2.06.94-2.06 2.06-.94-2.06-.94-.94-2.06-.94 2.06-2.06.94z\"/><path d=\"M17.41 7.96l-1.37-1.37c-.4-.4-.92-.59-1.43-.59-.52 0-1.04.2-1.43.59L10.3 9.45l-7.72 7.72c-.78.78-.78 2.05 0 2.83L4 21.41c.39.39.9.59 1.41.59.51 0 1.02-.2 1.41-.59l7.78-7.78 2.81-2.81c.8-.78.8-2.07 0-2.86zM5.41 20L4 18.59l7.72-7.72 1.47 1.35L5.41 20z\"/>\n",
              "  </svg>\n",
              "      </button>\n",
              "      \n",
              "  <style>\n",
              "    .colab-df-container {\n",
              "      display:flex;\n",
              "      flex-wrap:wrap;\n",
              "      gap: 12px;\n",
              "    }\n",
              "\n",
              "    .colab-df-convert {\n",
              "      background-color: #E8F0FE;\n",
              "      border: none;\n",
              "      border-radius: 50%;\n",
              "      cursor: pointer;\n",
              "      display: none;\n",
              "      fill: #1967D2;\n",
              "      height: 32px;\n",
              "      padding: 0 0 0 0;\n",
              "      width: 32px;\n",
              "    }\n",
              "\n",
              "    .colab-df-convert:hover {\n",
              "      background-color: #E2EBFA;\n",
              "      box-shadow: 0px 1px 2px rgba(60, 64, 67, 0.3), 0px 1px 3px 1px rgba(60, 64, 67, 0.15);\n",
              "      fill: #174EA6;\n",
              "    }\n",
              "\n",
              "    [theme=dark] .colab-df-convert {\n",
              "      background-color: #3B4455;\n",
              "      fill: #D2E3FC;\n",
              "    }\n",
              "\n",
              "    [theme=dark] .colab-df-convert:hover {\n",
              "      background-color: #434B5C;\n",
              "      box-shadow: 0px 1px 3px 1px rgba(0, 0, 0, 0.15);\n",
              "      filter: drop-shadow(0px 1px 2px rgba(0, 0, 0, 0.3));\n",
              "      fill: #FFFFFF;\n",
              "    }\n",
              "  </style>\n",
              "\n",
              "      <script>\n",
              "        const buttonEl =\n",
              "          document.querySelector('#df-5183e36f-9b57-4b5a-9ff2-2ae5d10f4e3b button.colab-df-convert');\n",
              "        buttonEl.style.display =\n",
              "          google.colab.kernel.accessAllowed ? 'block' : 'none';\n",
              "\n",
              "        async function convertToInteractive(key) {\n",
              "          const element = document.querySelector('#df-5183e36f-9b57-4b5a-9ff2-2ae5d10f4e3b');\n",
              "          const dataTable =\n",
              "            await google.colab.kernel.invokeFunction('convertToInteractive',\n",
              "                                                     [key], {});\n",
              "          if (!dataTable) return;\n",
              "\n",
              "          const docLinkHtml = 'Like what you see? Visit the ' +\n",
              "            '<a target=\"_blank\" href=https://colab.research.google.com/notebooks/data_table.ipynb>data table notebook</a>'\n",
              "            + ' to learn more about interactive tables.';\n",
              "          element.innerHTML = '';\n",
              "          dataTable['output_type'] = 'display_data';\n",
              "          await google.colab.output.renderOutput(dataTable, element);\n",
              "          const docLink = document.createElement('div');\n",
              "          docLink.innerHTML = docLinkHtml;\n",
              "          element.appendChild(docLink);\n",
              "        }\n",
              "      </script>\n",
              "    </div>\n",
              "  </div>\n",
              "  "
            ],
            "text/plain": [
              "      movieId                       title   genres\n",
              "1769     1837   Odd Couple II, The (1998)   Comedy\n",
              "1697     1749     Leading Man, The (1996)  Romance\n",
              "3213     3282  Different for Girls (1996)   Comedy\n",
              "1723     1781   Further Gesture, A (1996)    Drama\n",
              "150       152       Addiction, The (1995)   Horror"
            ]
          },
          "metadata": {},
          "execution_count": 65
        }
      ]
    },
    {
      "cell_type": "code",
      "source": [
        "print('There are {} rows of data from {} users'.format(len(ratings), len(ratings.userId.unique())))"
      ],
      "metadata": {
        "colab": {
          "base_uri": "https://localhost:8080/"
        },
        "id": "tsJXku8Ua4o5",
        "outputId": "3e18ab13-0410-4256-9045-5746170a1233"
      },
      "execution_count": null,
      "outputs": [
        {
          "output_type": "stream",
          "name": "stdout",
          "text": [
            "There are 1000209 rows of data from 6040 users\n"
          ]
        }
      ]
    },
    {
      "cell_type": "markdown",
      "source": [
        "Let's do some preprocessing for out data.\n",
        "\n",
        "Prepare it as df and encode users and movies as integer indices.\n",
        "\n",
        "Here we used sklearn's LabelEncoder for this process."
      ],
      "metadata": {
        "id": "27wdykntk60i"
      }
    },
    {
      "cell_type": "code",
      "source": [
        "from sklearn.preprocessing import LabelEncoder\n",
        "\n",
        "def create_df(df):\n",
        "\n",
        "    # Encoding users and movies as integers\n",
        "    user_enc = LabelEncoder()\n",
        "    df['user'] = user_enc.fit_transform(df['userId'].values)\n",
        "    \n",
        "    item_enc = LabelEncoder()\n",
        "    df['movie'] = item_enc.fit_transform(df['movieId'].values)\n",
        "\n",
        "    # Number of unique users and movies\n",
        "    n_users = df['user'].nunique()\n",
        "    n_movies = df['movie'].nunique()\n",
        "\n",
        "    df['rating'] = df['rating'].values.astype(np.float32)\n",
        "\n",
        "    # Min and Max ratings from the database\n",
        "    # We will use these for normalization\n",
        "    min_rating = min(df['rating'])\n",
        "    max_rating = max(df['rating'])\n",
        "\n",
        "    return n_users, n_movies, min_rating, max_rating, df\n",
        "\n"
      ],
      "metadata": {
        "id": "KLcsqUW3bCQg"
      },
      "execution_count": null,
      "outputs": []
    },
    {
      "cell_type": "code",
      "source": [
        "from sklearn.model_selection import train_test_split\n",
        "\n",
        "# Create our df by calling create_df function & create X,y for split\n",
        "n_users, n_movies, min_rating, max_rating, df=create_df(ratings)\n",
        "\n",
        "X = df[['user', 'movie']].values\n",
        "y = df['rating'].values # our target\n",
        "\n",
        "\n",
        "# Split by %90-%10 for train and test as we have 1M row data. \n",
        "# Test will have 100k row data.\n",
        "# We could do %95-%5 but i prefer that way. As 50k row would be enough for test\n",
        "X_train, X_test, y_train, y_test = train_test_split(X, y, train_size=0.9, random_state=10)\n",
        "\n",
        "# We didn't normalize our target(y) for first try, we will do it later\n",
        "X_train.shape, X_test.shape, y_train.shape, y_test.shape"
      ],
      "metadata": {
        "colab": {
          "base_uri": "https://localhost:8080/"
        },
        "id": "ZE98ahtjbxOW",
        "outputId": "3f2e62d8-b4bb-4c02-ce61-455c77e63399"
      },
      "execution_count": null,
      "outputs": [
        {
          "output_type": "execute_result",
          "data": {
            "text/plain": [
              "((900188, 2), (100021, 2), (900188,), (100021,))"
            ]
          },
          "metadata": {},
          "execution_count": 8
        }
      ]
    },
    {
      "cell_type": "code",
      "source": [
        "print(f'Embeddings: {n_users} users, {n_movies} movies')\n",
        "print(f'Dataset(user&movie ids) shape: {df.shape}')\n",
        "print(f'Target(ratings) shape: {y.shape}')\n",
        "\n",
        "print(f'We will use user and movie as features and rating as the target of our embedding based model.')"
      ],
      "metadata": {
        "colab": {
          "base_uri": "https://localhost:8080/"
        },
        "id": "D18YONdZeB5n",
        "outputId": "9400e1e8-bdc6-4efa-afce-0c70fd6e3829"
      },
      "execution_count": null,
      "outputs": [
        {
          "output_type": "stream",
          "name": "stdout",
          "text": [
            "Embeddings: 6040 users, 3706 movies\n",
            "Dataset(user&movie ids) shape: (1000209, 6)\n",
            "Target(ratings) shape: (1000209,)\n",
            "We will use user and movie as features and rating as the target of our embedding based model.\n"
          ]
        }
      ]
    },
    {
      "cell_type": "markdown",
      "source": [
        "Now we will start our collaborative filtering model\n",
        "\n",
        "Importing tensorflow and keras"
      ],
      "metadata": {
        "id": "D2BT42yZlZHx"
      }
    },
    {
      "cell_type": "code",
      "source": [
        "import tensorflow as tf\n",
        "from tensorflow import keras\n",
        "from tensorflow.keras import layers\n",
        "from tensorflow.keras.optimizers import Adam\n",
        "\n",
        "from keras.models import Model\n",
        "from keras.layers import Input, Reshape, Dot\n",
        "from keras.regularizers import l2\n",
        "\n",
        "import matplotlib.pyplot as plt\n",
        "\n",
        "# Make users and movies into separate arrays in the training and test data for Keras input\n",
        "X_train_array = [X_train[:, 0], X_train[:, 1]]\n",
        "X_test_array = [X_test[:, 0], X_test[:, 1]]\n",
        "\n",
        "# EmbeddingLayer as a calling class\n",
        "class EmbeddingLayer:\n",
        "    def __init__(self, n_items, n_factors):\n",
        "        self.n_items = n_items\n",
        "        self.n_factors = n_factors\n",
        "    \n",
        "    def __call__(self, Embedded):\n",
        "        Embedded = layers.Embedding(self.n_items, \n",
        "                             self.n_factors, \n",
        "                             embeddings_initializer='he_normal',\n",
        "                             embeddings_regularizer=l2(1e-6))(Embedded)\n",
        "        Embedded = Reshape((self.n_factors,))(Embedded)\n",
        "        return Embedded\n",
        "\n",
        "\n",
        "def rec_Model(n_users, n_movies, embedding_size=50):\n",
        "    #Creating an embedding layer having embedding vectors of user and item ids.\n",
        "    user = Input(shape=(1,))\n",
        "    u = EmbeddingLayer(n_users, embedding_size)(user)\n",
        "        \n",
        "    movie = Input(shape=(1,))\n",
        "    m = EmbeddingLayer(n_movies, embedding_size)(movie)\n",
        "    \n",
        "    # Dot product for interactions between users and items\n",
        "    interaction = Dot(axes=1)([u, m])\n",
        "\n",
        "    # We used Adam for optimizer as learning_rate=0.001\n",
        "    rec_model = Model(inputs=[user, movie], outputs=interaction)\n",
        "    opt = Adam(learning_rate=0.001)\n",
        "\n",
        "    # Computing loss as mean squared error\n",
        "    rec_model.compile(loss='mean_squared_error', optimizer=opt)\n",
        "\n",
        "    return rec_model #recommender model "
      ],
      "metadata": {
        "colab": {
          "base_uri": "https://localhost:8080/"
        },
        "id": "4iCkGI-3eYY2",
        "outputId": "73fa7b35-20a9-451d-b6e9-690fc8464180"
      },
      "execution_count": null,
      "outputs": [
        {
          "output_type": "execute_result",
          "data": {
            "text/plain": [
              "<KerasTensor: shape=(None, 1) dtype=float32 (created by layer 'input_23')>"
            ]
          },
          "metadata": {},
          "execution_count": 206
        }
      ]
    },
    {
      "cell_type": "code",
      "source": [
        "model = rec_Model(n_users, n_movies)\n",
        "model.summary()"
      ],
      "metadata": {
        "colab": {
          "base_uri": "https://localhost:8080/"
        },
        "id": "fwICO7l5gyab",
        "outputId": "5fc045a5-921d-4a2c-ceff-3dc8efeb5c76"
      },
      "execution_count": null,
      "outputs": [
        {
          "output_type": "stream",
          "name": "stdout",
          "text": [
            "Model: \"model_10\"\n",
            "__________________________________________________________________________________________________\n",
            " Layer (type)                   Output Shape         Param #     Connected to                     \n",
            "==================================================================================================\n",
            " input_28 (InputLayer)          [(None, 1)]          0           []                               \n",
            "                                                                                                  \n",
            " input_29 (InputLayer)          [(None, 1)]          0           []                               \n",
            "                                                                                                  \n",
            " embedding_24 (Embedding)       (None, 1, 50)        302000      ['input_28[0][0]']               \n",
            "                                                                                                  \n",
            " embedding_25 (Embedding)       (None, 1, 50)        185300      ['input_29[0][0]']               \n",
            "                                                                                                  \n",
            " reshape_24 (Reshape)           (None, 50)           0           ['embedding_24[0][0]']           \n",
            "                                                                                                  \n",
            " reshape_25 (Reshape)           (None, 50)           0           ['embedding_25[0][0]']           \n",
            "                                                                                                  \n",
            " dot_3 (Dot)                    (None, 1)            0           ['reshape_24[0][0]',             \n",
            "                                                                  'reshape_25[0][0]']             \n",
            "                                                                                                  \n",
            "==================================================================================================\n",
            "Total params: 487,300\n",
            "Trainable params: 487,300\n",
            "Non-trainable params: 0\n",
            "__________________________________________________________________________________________________\n"
          ]
        }
      ]
    },
    {
      "cell_type": "code",
      "source": [
        "history1 = model.fit(x=X_train_array, \n",
        "                      y=y_train, \n",
        "                      batch_size=1000, \n",
        "                      epochs=10, \n",
        "                      verbose=1, \n",
        "                      validation_data=[X_test_array, y_test])"
      ],
      "metadata": {
        "colab": {
          "base_uri": "https://localhost:8080/"
        },
        "id": "uiU0GB8Eg9dm",
        "outputId": "537120a8-1514-4417-92da-5079b29c51c6"
      },
      "execution_count": null,
      "outputs": [
        {
          "output_type": "stream",
          "name": "stdout",
          "text": [
            "Epoch 1/10\n",
            "901/901 [==============================] - 7s 8ms/step - loss: 0.7254 - val_loss: 0.7804\n",
            "Epoch 2/10\n",
            "901/901 [==============================] - 7s 8ms/step - loss: 0.7044 - val_loss: 0.7740\n",
            "Epoch 3/10\n",
            "901/901 [==============================] - 7s 7ms/step - loss: 0.6827 - val_loss: 0.7693\n",
            "Epoch 4/10\n",
            "901/901 [==============================] - 7s 7ms/step - loss: 0.6608 - val_loss: 0.7664\n",
            "Epoch 5/10\n",
            "901/901 [==============================] - 7s 8ms/step - loss: 0.6390 - val_loss: 0.7654\n",
            "Epoch 6/10\n",
            "901/901 [==============================] - 7s 8ms/step - loss: 0.6173 - val_loss: 0.7664\n",
            "Epoch 7/10\n",
            "901/901 [==============================] - 7s 8ms/step - loss: 0.5964 - val_loss: 0.7707\n",
            "Epoch 8/10\n",
            "901/901 [==============================] - 7s 7ms/step - loss: 0.5759 - val_loss: 0.7753\n",
            "Epoch 9/10\n",
            "901/901 [==============================] - 7s 7ms/step - loss: 0.5566 - val_loss: 0.7820\n",
            "Epoch 10/10\n",
            "901/901 [==============================] - 7s 8ms/step - loss: 0.5384 - val_loss: 0.7917\n"
          ]
        }
      ]
    },
    {
      "cell_type": "code",
      "source": [
        "plt.plot(history1.history[\"loss\"])\n",
        "plt.plot(history1.history[\"val_loss\"])\n",
        "plt.title(\"model loss\")\n",
        "plt.ylabel(\"loss\")\n",
        "plt.xlabel(\"epoch\")\n",
        "plt.legend([\"train\", \"test\"], loc=\"upper left\")\n",
        "plt.show()"
      ],
      "metadata": {
        "colab": {
          "base_uri": "https://localhost:8080/",
          "height": 295
        },
        "id": "J6htg0l9hIww",
        "outputId": "343a98b3-935f-44fa-943d-fdf76bb233e1"
      },
      "execution_count": null,
      "outputs": [
        {
          "output_type": "display_data",
          "data": {
            "image/png": "[encoded data removed]",
            "text/plain": [
              "<Figure size 432x288 with 1 Axes>"
            ]
          },
          "metadata": {
            "needs_background": "light"
          }
        }
      ]
    },
    {
      "cell_type": "code",
      "source": [
        ""
      ],
      "metadata": {
        "id": "4HfvlDxqhL84"
      },
      "execution_count": null,
      "outputs": []
    },
    {
      "cell_type": "code",
      "source": [
        ""
      ],
      "metadata": {
        "id": "VnScgFlKhMd6"
      },
      "execution_count": null,
      "outputs": []
    },
    {
      "cell_type": "markdown",
      "source": [
        "Now we add neural network to our model with a dropout and concatenatation\n",
        "\n",
        "Actually I tried with more dense layers and dropouts but it didn't further improve our score"
      ],
      "metadata": {
        "id": "enZKwGpqhNDT"
      }
    },
    {
      "cell_type": "code",
      "source": [
        "from keras.layers import Activation, Concatenate, Dense, Dropout\n",
        "\n",
        "\n",
        "def NNmodel(n_users, n_movies, embedding_size=50):\n",
        "    user = Input(shape=(1,))\n",
        "    u = EmbeddingLayer(n_users, embedding_size)(user)\n",
        "    \n",
        "    movie = Input(shape=(1,))\n",
        "    m = EmbeddingLayer(n_movies, embedding_size)(movie)\n",
        "    \n",
        "    # Concat on the embedding layers and dropout layer\n",
        "    interaction = Concatenate()([u, m])\n",
        "    interaction = Dropout(0.05)(interaction)\n",
        "\n",
        "    # Dense layer with relu and sigmoid activation functions for interaction    \n",
        "    interaction = Dense(10, kernel_initializer='he_normal')(interaction)\n",
        "    interaction = Activation('relu')(interaction)\n",
        "    interaction = Dropout(0.5)(interaction)\n",
        "    \n",
        "    interaction = Dense(1, kernel_initializer='he_normal')(interaction)\n",
        "    interaction = Activation('sigmoid')(interaction)\n",
        "\n",
        "    # Again used Adam with lr=0.001\n",
        "    NNmodel = Model(inputs=[user, movie], outputs=interaction)\n",
        "    opt = Adam(learning_rate=0.001)\n",
        "    NNmodel.compile(loss='mean_squared_error', optimizer=opt)\n",
        "\n",
        "    return NNmodel"
      ],
      "metadata": {
        "id": "4opbi99DhNW2"
      },
      "execution_count": null,
      "outputs": []
    },
    {
      "cell_type": "code",
      "source": [
        "model2 = NNmodel(n_users, n_movies)\n",
        "model2.summary()"
      ],
      "metadata": {
        "colab": {
          "base_uri": "https://localhost:8080/"
        },
        "id": "yqZeuXeSjtKb",
        "outputId": "a71ba352-34ae-43de-97b9-4afe18db70ac"
      },
      "execution_count": null,
      "outputs": [
        {
          "output_type": "stream",
          "name": "stdout",
          "text": [
            "Model: \"model_6\"\n",
            "__________________________________________________________________________________________________\n",
            " Layer (type)                   Output Shape         Param #     Connected to                     \n",
            "==================================================================================================\n",
            " input_17 (InputLayer)          [(None, 1)]          0           []                               \n",
            "                                                                                                  \n",
            " input_18 (InputLayer)          [(None, 1)]          0           []                               \n",
            "                                                                                                  \n",
            " embedding_16 (Embedding)       (None, 1, 50)        302000      ['input_17[0][0]']               \n",
            "                                                                                                  \n",
            " embedding_17 (Embedding)       (None, 1, 50)        185300      ['input_18[0][0]']               \n",
            "                                                                                                  \n",
            " reshape_16 (Reshape)           (None, 50)           0           ['embedding_16[0][0]']           \n",
            "                                                                                                  \n",
            " reshape_17 (Reshape)           (None, 50)           0           ['embedding_17[0][0]']           \n",
            "                                                                                                  \n",
            " concatenate_7 (Concatenate)    (None, 100)          0           ['reshape_16[0][0]',             \n",
            "                                                                  'reshape_17[0][0]']             \n",
            "                                                                                                  \n",
            " dropout_13 (Dropout)           (None, 100)          0           ['concatenate_7[0][0]']          \n",
            "                                                                                                  \n",
            " dense_12 (Dense)               (None, 10)           1010        ['dropout_13[0][0]']             \n",
            "                                                                                                  \n",
            " activation_11 (Activation)     (None, 10)           0           ['dense_12[0][0]']               \n",
            "                                                                                                  \n",
            " dropout_14 (Dropout)           (None, 10)           0           ['activation_11[0][0]']          \n",
            "                                                                                                  \n",
            " dense_13 (Dense)               (None, 1)            11          ['dropout_14[0][0]']             \n",
            "                                                                                                  \n",
            " activation_12 (Activation)     (None, 1)            0           ['dense_13[0][0]']               \n",
            "                                                                                                  \n",
            "==================================================================================================\n",
            "Total params: 488,321\n",
            "Trainable params: 488,321\n",
            "Non-trainable params: 0\n",
            "__________________________________________________________________________________________________\n"
          ]
        }
      ]
    },
    {
      "cell_type": "code",
      "source": [
        "history2 = model2.fit(x=X_train_array, \n",
        "                      y=y_train, \n",
        "                      batch_size=1000, \n",
        "                      epochs=10, \n",
        "                      verbose=1, \n",
        "                      validation_data=(X_test_array, y_test))"
      ],
      "metadata": {
        "colab": {
          "base_uri": "https://localhost:8080/"
        },
        "id": "P-gBj3ytjcgz",
        "outputId": "22757bea-cd7e-468b-d829-73fa12be0113"
      },
      "execution_count": null,
      "outputs": [
        {
          "output_type": "stream",
          "name": "stdout",
          "text": [
            "Epoch 1/10\n",
            "901/901 [==============================] - 9s 10ms/step - loss: 7.9562 - val_loss: 7.8869\n",
            "Epoch 2/10\n",
            "901/901 [==============================] - 8s 9ms/step - loss: 7.9441 - val_loss: 7.8864\n",
            "Epoch 3/10\n",
            "901/901 [==============================] - 8s 9ms/step - loss: 7.9352 - val_loss: 7.8860\n",
            "Epoch 4/10\n",
            "901/901 [==============================] - 8s 9ms/step - loss: 7.9288 - val_loss: 7.8857\n",
            "Epoch 5/10\n",
            "901/901 [==============================] - 8s 9ms/step - loss: 7.9243 - val_loss: 7.8855\n",
            "Epoch 6/10\n",
            "901/901 [==============================] - 8s 9ms/step - loss: 7.9215 - val_loss: 7.8854\n",
            "Epoch 7/10\n",
            "901/901 [==============================] - 9s 10ms/step - loss: 7.9195 - val_loss: 7.8853\n",
            "Epoch 8/10\n",
            "901/901 [==============================] - 8s 9ms/step - loss: 7.9182 - val_loss: 7.8852\n",
            "Epoch 9/10\n",
            "901/901 [==============================] - 8s 8ms/step - loss: 7.9173 - val_loss: 7.8852\n",
            "Epoch 10/10\n",
            "901/901 [==============================] - 8s 9ms/step - loss: 7.9167 - val_loss: 7.8851\n"
          ]
        }
      ]
    },
    {
      "cell_type": "code",
      "source": [
        "plt.plot(history2.history[\"loss\"])\n",
        "plt.plot(history2.history[\"val_loss\"])\n",
        "plt.title(\"model loss\")\n",
        "plt.ylabel(\"loss\")\n",
        "plt.xlabel(\"epoch\")\n",
        "plt.legend([\"train\", \"test\"], loc=\"upper left\")\n",
        "plt.show()"
      ],
      "metadata": {
        "id": "Yv91s48vj4ho"
      },
      "execution_count": null,
      "outputs": []
    },
    {
      "cell_type": "markdown",
      "source": [
        "Now final trick\n",
        "\n",
        "We will try to normalize our target and let's see what will our NNmodel do\n",
        "\n",
        "Normalize the target between 0 and 1. Makes it easy to train."
      ],
      "metadata": {
        "id": "EYH-gkm4lken"
      }
    },
    {
      "cell_type": "code",
      "source": [
        "\n",
        "y2 = df[\"rating\"].apply(lambda x: (x - min_rating) / (max_rating - min_rating)).values\n",
        "\n",
        "# Again split data\n",
        "X_train, X_test, y2_train, y2_test = train_test_split(X, y2, train_size=0.9, random_state=10)\n",
        "\n",
        "X_train.shape, X_test.shape, y2_train.shape, y2_test.shape\n",
        "\n",
        "\n"
      ],
      "metadata": {
        "colab": {
          "base_uri": "https://localhost:8080/"
        },
        "id": "Sa4Dxycxj53B",
        "outputId": "d286a646-e50e-4402-8eff-41f622f89cbd"
      },
      "execution_count": null,
      "outputs": [
        {
          "output_type": "execute_result",
          "data": {
            "text/plain": [
              "((900188, 2), (100021, 2), (900188,), (100021,))"
            ]
          },
          "metadata": {},
          "execution_count": 36
        }
      ]
    },
    {
      "cell_type": "code",
      "source": [
        "model3 = NNmodel(n_users, n_movies)\n",
        "model3.summary()"
      ],
      "metadata": {
        "colab": {
          "base_uri": "https://localhost:8080/"
        },
        "id": "Qopx0pBSkU76",
        "outputId": "19fcfde5-4c2c-44c3-cea2-ab0ef78f71ad"
      },
      "execution_count": null,
      "outputs": [
        {
          "output_type": "stream",
          "name": "stdout",
          "text": [
            "Model: \"model_7\"\n",
            "__________________________________________________________________________________________________\n",
            " Layer (type)                   Output Shape         Param #     Connected to                     \n",
            "==================================================================================================\n",
            " input_19 (InputLayer)          [(None, 1)]          0           []                               \n",
            "                                                                                                  \n",
            " input_20 (InputLayer)          [(None, 1)]          0           []                               \n",
            "                                                                                                  \n",
            " embedding_18 (Embedding)       (None, 1, 50)        302000      ['input_19[0][0]']               \n",
            "                                                                                                  \n",
            " embedding_19 (Embedding)       (None, 1, 50)        185300      ['input_20[0][0]']               \n",
            "                                                                                                  \n",
            " reshape_18 (Reshape)           (None, 50)           0           ['embedding_18[0][0]']           \n",
            "                                                                                                  \n",
            " reshape_19 (Reshape)           (None, 50)           0           ['embedding_19[0][0]']           \n",
            "                                                                                                  \n",
            " concatenate_8 (Concatenate)    (None, 100)          0           ['reshape_18[0][0]',             \n",
            "                                                                  'reshape_19[0][0]']             \n",
            "                                                                                                  \n",
            " dropout_15 (Dropout)           (None, 100)          0           ['concatenate_8[0][0]']          \n",
            "                                                                                                  \n",
            " dense_14 (Dense)               (None, 10)           1010        ['dropout_15[0][0]']             \n",
            "                                                                                                  \n",
            " activation_13 (Activation)     (None, 10)           0           ['dense_14[0][0]']               \n",
            "                                                                                                  \n",
            " dropout_16 (Dropout)           (None, 10)           0           ['activation_13[0][0]']          \n",
            "                                                                                                  \n",
            " dense_15 (Dense)               (None, 1)            11          ['dropout_16[0][0]']             \n",
            "                                                                                                  \n",
            " activation_14 (Activation)     (None, 1)            0           ['dense_15[0][0]']               \n",
            "                                                                                                  \n",
            "==================================================================================================\n",
            "Total params: 488,321\n",
            "Trainable params: 488,321\n",
            "Non-trainable params: 0\n",
            "__________________________________________________________________________________________________\n"
          ]
        }
      ]
    },
    {
      "cell_type": "code",
      "source": [
        "history3 = model3.fit(x=X_train_array, \n",
        "                      y=y2_train, \n",
        "                      batch_size=1000, \n",
        "                      epochs=10, \n",
        "                      verbose=1, \n",
        "                      validation_data=(X_test_array, y2_test))"
      ],
      "metadata": {
        "colab": {
          "base_uri": "https://localhost:8080/"
        },
        "id": "7iH18TUvkXwG",
        "outputId": "f41a6da8-d404-447d-fb96-72af39fdf509"
      },
      "execution_count": null,
      "outputs": [
        {
          "output_type": "stream",
          "name": "stdout",
          "text": [
            "Epoch 1/10\n",
            "901/901 [==============================] - 9s 9ms/step - loss: 0.0613 - val_loss: 0.0522\n",
            "Epoch 2/10\n",
            "901/901 [==============================] - 8s 9ms/step - loss: 0.0554 - val_loss: 0.0519\n",
            "Epoch 3/10\n",
            "901/901 [==============================] - 8s 9ms/step - loss: 0.0549 - val_loss: 0.0517\n",
            "Epoch 4/10\n",
            "901/901 [==============================] - 8s 9ms/step - loss: 0.0547 - val_loss: 0.0518\n",
            "Epoch 5/10\n",
            "901/901 [==============================] - 8s 9ms/step - loss: 0.0547 - val_loss: 0.0517\n",
            "Epoch 6/10\n",
            "901/901 [==============================] - 8s 9ms/step - loss: 0.0546 - val_loss: 0.0517\n",
            "Epoch 7/10\n",
            "901/901 [==============================] - 8s 9ms/step - loss: 0.0547 - val_loss: 0.0516\n",
            "Epoch 8/10\n",
            "901/901 [==============================] - 8s 9ms/step - loss: 0.0546 - val_loss: 0.0517\n",
            "Epoch 9/10\n",
            "901/901 [==============================] - 8s 9ms/step - loss: 0.0546 - val_loss: 0.0516\n",
            "Epoch 10/10\n",
            "901/901 [==============================] - 8s 9ms/step - loss: 0.0545 - val_loss: 0.0516\n"
          ]
        }
      ]
    },
    {
      "cell_type": "code",
      "source": [
        "plt.plot(history3.history[\"loss\"])\n",
        "plt.plot(history3.history[\"val_loss\"])\n",
        "plt.title(\"model loss\")\n",
        "plt.ylabel(\"loss\")\n",
        "plt.xlabel(\"epoch\")\n",
        "plt.legend([\"train\", \"test\"], loc=\"upper left\")\n",
        "plt.show()"
      ],
      "metadata": {
        "colab": {
          "base_uri": "https://localhost:8080/",
          "height": 295
        },
        "id": "5Op8uOntkk8P",
        "outputId": "ab4f54c5-928f-4799-c3ea-275366483f39"
      },
      "execution_count": null,
      "outputs": [
        {
          "output_type": "display_data",
          "data": {
            "image/png": "[encoded data removed]",
            "text/plain": [
              "<Figure size 432x288 with 1 Axes>"
            ]
          },
          "metadata": {
            "needs_background": "light"
          }
        }
      ]
    }
  ]
}