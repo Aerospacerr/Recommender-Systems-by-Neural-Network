{
  "nbformat": 4,
  "nbformat_minor": 0,
  "metadata": {
    "colab": {
      "name": "NN Recommender System",
      "provenance": [],
      "collapsed_sections": [],
      "authorship_tag": "ABX9TyM4Ks8I3vdJ1YDCrfOCxSq6"
    },
    "kernelspec": {
      "name": "python3",
      "display_name": "Python 3"
    },
    "language_info": {
      "name": "python"
    }
  },
  "cells": [
    {
      "cell_type": "markdown",
      "source": [
        "# **NN RECOMMENDER SYSTEM**\n",
        "### **Huseyin Emir Can**\n",
        "\n",
        "Here we start by importing libraries for getting the data.\n",
        "\n",
        "Actually, I used data by uploading Google Colab from my laptop, \n",
        "because of my laptop's lack of ram.\n",
        "\n",
        "Therefore, in order to be consistent and provide integrity in the code when you run, I searched and find this small downloading code to download Movielens 1M dataset. \n",
        "\n",
        "Here are the download code's imports:"
      ],
      "metadata": {
        "id": "qwdFosjakeP9"
      }
    },
    {
      "cell_type": "markdown",
      "source": [
        "\n"
      ],
      "metadata": {
        "id": "AFh5AxzDBoP0"
      }
    },
    {
      "cell_type": "code",
      "execution_count": null,
      "metadata": {
        "id": "rFFN8KYtYxD3"
      },
      "outputs": [],
      "source": [
        "import io\n",
        "import os\n",
        "import math\n",
        "import copy\n",
        "import pickle\n",
        "import zipfile\n",
        "from textwrap import wrap\n",
        "from pathlib import Path\n",
        "from itertools import zip_longest\n",
        "from collections import defaultdict\n",
        "from urllib.error import URLError\n",
        "from urllib.request import urlopen\n",
        "from zipfile import ZipFile\n",
        "\n",
        "import numpy as np\n",
        "import pandas as pd"
      ]
    },
    {
      "cell_type": "code",
      "source": [
        "# It also includes reading the data\n",
        "# Data need to be uploaded to colab as ratings and movies\n",
        "def read_data(path):\n",
        "    if filename.stem == 'ratings':\n",
        "        columns = ['userId', 'movieId', 'rating', 'timestamp']\n",
        "    else:\n",
        "        columns = ['movieId', 'title', 'genres']\n",
        "    data = pd.read_csv(filename, sep='::', names=columns, engine='python')\n",
        "    files[filename.stem] = data\n",
        "    return files['ratings'], files['movies']"
      ],
      "metadata": {
        "id": "LPkcAMcDY0jZ"
      },
      "execution_count": null,
      "outputs": []
    },
    {
      "cell_type": "code",
      "source": [
        "columns = ['movieId', 'title', 'genres']\n",
        "movies = pd.read_csv('/content/movies.dat', sep='::', names=columns, engine='python',encoding='latin-1')\n",
        "\n",
        "columns = ['userId', 'movieId', 'rating', 'timestamp']\n",
        "ratings = pd.read_csv('/content/ratings.dat', sep='::', names=columns, engine='python',encoding='latin-1')\n",
        "\n",
        "\n"
      ],
      "metadata": {
        "id": "4YFMFTnqD8H3"
      },
      "execution_count": null,
      "outputs": []
    },
    {
      "cell_type": "markdown",
      "source": [
        "Let's quickly check what we have in the dataset:\n"
      ],
      "metadata": {
        "id": "U98Pcy0Ak3Ko"
      }
    },
    {
      "cell_type": "code",
      "source": [
        "movies"
      ],
      "metadata": {
        "colab": {
          "base_uri": "https://localhost:8080/",
          "height": 424
        },
        "id": "lZXJJKvAJJo2",
        "outputId": "23c3f5c3-c546-44dd-ccf9-15d94eb03892"
      },
      "execution_count": null,
      "outputs": [
        {
          "output_type": "execute_result",
          "data": {
            "text/plain": [
              "      movieId                               title  \\\n",
              "0           1                    Toy Story (1995)   \n",
              "1           2                      Jumanji (1995)   \n",
              "2           3             Grumpier Old Men (1995)   \n",
              "3           4            Waiting to Exhale (1995)   \n",
              "4           5  Father of the Bride Part II (1995)   \n",
              "...       ...                                 ...   \n",
              "3878     3948             Meet the Parents (2000)   \n",
              "3879     3949          Requiem for a Dream (2000)   \n",
              "3880     3950                    Tigerland (2000)   \n",
              "3881     3951             Two Family House (2000)   \n",
              "3882     3952               Contender, The (2000)   \n",
              "\n",
              "                            genres  \n",
              "0      Animation|Children's|Comedy  \n",
              "1     Adventure|Children's|Fantasy  \n",
              "2                   Comedy|Romance  \n",
              "3                     Comedy|Drama  \n",
              "4                           Comedy  \n",
              "...                            ...  \n",
              "3878                        Comedy  \n",
              "3879                         Drama  \n",
              "3880                         Drama  \n",
              "3881                         Drama  \n",
              "3882                Drama|Thriller  \n",
              "\n",
              "[3883 rows x 3 columns]"
            ],
            "text/html": [
              "\n",
              "  <div id=\"df-16d0a19d-b2c3-460b-bf65-96c1858010d3\">\n",
              "    <div class=\"colab-df-container\">\n",
              "      <div>\n",
              "<style scoped>\n",
              "    .dataframe tbody tr th:only-of-type {\n",
              "        vertical-align: middle;\n",
              "    }\n",
              "\n",
              "    .dataframe tbody tr th {\n",
              "        vertical-align: top;\n",
              "    }\n",
              "\n",
              "    .dataframe thead th {\n",
              "        text-align: right;\n",
              "    }\n",
              "</style>\n",
              "<table border=\"1\" class=\"dataframe\">\n",
              "  <thead>\n",
              "    <tr style=\"text-align: right;\">\n",
              "      <th></th>\n",
              "      <th>movieId</th>\n",
              "      <th>title</th>\n",
              "      <th>genres</th>\n",
              "    </tr>\n",
              "  </thead>\n",
              "  <tbody>\n",
              "    <tr>\n",
              "      <th>0</th>\n",
              "      <td>1</td>\n",
              "      <td>Toy Story (1995)</td>\n",
              "      <td>Animation|Children's|Comedy</td>\n",
              "    </tr>\n",
              "    <tr>\n",
              "      <th>1</th>\n",
              "      <td>2</td>\n",
              "      <td>Jumanji (1995)</td>\n",
              "      <td>Adventure|Children's|Fantasy</td>\n",
              "    </tr>\n",
              "    <tr>\n",
              "      <th>2</th>\n",
              "      <td>3</td>\n",
              "      <td>Grumpier Old Men (1995)</td>\n",
              "      <td>Comedy|Romance</td>\n",
              "    </tr>\n",
              "    <tr>\n",
              "      <th>3</th>\n",
              "      <td>4</td>\n",
              "      <td>Waiting to Exhale (1995)</td>\n",
              "      <td>Comedy|Drama</td>\n",
              "    </tr>\n",
              "    <tr>\n",
              "      <th>4</th>\n",
              "      <td>5</td>\n",
              "      <td>Father of the Bride Part II (1995)</td>\n",
              "      <td>Comedy</td>\n",
              "    </tr>\n",
              "    <tr>\n",
              "      <th>...</th>\n",
              "      <td>...</td>\n",
              "      <td>...</td>\n",
              "      <td>...</td>\n",
              "    </tr>\n",
              "    <tr>\n",
              "      <th>3878</th>\n",
              "      <td>3948</td>\n",
              "      <td>Meet the Parents (2000)</td>\n",
              "      <td>Comedy</td>\n",
              "    </tr>\n",
              "    <tr>\n",
              "      <th>3879</th>\n",
              "      <td>3949</td>\n",
              "      <td>Requiem for a Dream (2000)</td>\n",
              "      <td>Drama</td>\n",
              "    </tr>\n",
              "    <tr>\n",
              "      <th>3880</th>\n",
              "      <td>3950</td>\n",
              "      <td>Tigerland (2000)</td>\n",
              "      <td>Drama</td>\n",
              "    </tr>\n",
              "    <tr>\n",
              "      <th>3881</th>\n",
              "      <td>3951</td>\n",
              "      <td>Two Family House (2000)</td>\n",
              "      <td>Drama</td>\n",
              "    </tr>\n",
              "    <tr>\n",
              "      <th>3882</th>\n",
              "      <td>3952</td>\n",
              "      <td>Contender, The (2000)</td>\n",
              "      <td>Drama|Thriller</td>\n",
              "    </tr>\n",
              "  </tbody>\n",
              "</table>\n",
              "<p>3883 rows × 3 columns</p>\n",
              "</div>\n",
              "      <button class=\"colab-df-convert\" onclick=\"convertToInteractive('df-16d0a19d-b2c3-460b-bf65-96c1858010d3')\"\n",
              "              title=\"Convert this dataframe to an interactive table.\"\n",
              "              style=\"display:none;\">\n",
              "        \n",
              "  <svg xmlns=\"http://www.w3.org/2000/svg\" height=\"24px\"viewBox=\"0 0 24 24\"\n",
              "       width=\"24px\">\n",
              "    <path d=\"M0 0h24v24H0V0z\" fill=\"none\"/>\n",
              "    <path d=\"M18.56 5.44l.94 2.06.94-2.06 2.06-.94-2.06-.94-.94-2.06-.94 2.06-2.06.94zm-11 1L8.5 8.5l.94-2.06 2.06-.94-2.06-.94L8.5 2.5l-.94 2.06-2.06.94zm10 10l.94 2.06.94-2.06 2.06-.94-2.06-.94-.94-2.06-.94 2.06-2.06.94z\"/><path d=\"M17.41 7.96l-1.37-1.37c-.4-.4-.92-.59-1.43-.59-.52 0-1.04.2-1.43.59L10.3 9.45l-7.72 7.72c-.78.78-.78 2.05 0 2.83L4 21.41c.39.39.9.59 1.41.59.51 0 1.02-.2 1.41-.59l7.78-7.78 2.81-2.81c.8-.78.8-2.07 0-2.86zM5.41 20L4 18.59l7.72-7.72 1.47 1.35L5.41 20z\"/>\n",
              "  </svg>\n",
              "      </button>\n",
              "      \n",
              "  <style>\n",
              "    .colab-df-container {\n",
              "      display:flex;\n",
              "      flex-wrap:wrap;\n",
              "      gap: 12px;\n",
              "    }\n",
              "\n",
              "    .colab-df-convert {\n",
              "      background-color: #E8F0FE;\n",
              "      border: none;\n",
              "      border-radius: 50%;\n",
              "      cursor: pointer;\n",
              "      display: none;\n",
              "      fill: #1967D2;\n",
              "      height: 32px;\n",
              "      padding: 0 0 0 0;\n",
              "      width: 32px;\n",
              "    }\n",
              "\n",
              "    .colab-df-convert:hover {\n",
              "      background-color: #E2EBFA;\n",
              "      box-shadow: 0px 1px 2px rgba(60, 64, 67, 0.3), 0px 1px 3px 1px rgba(60, 64, 67, 0.15);\n",
              "      fill: #174EA6;\n",
              "    }\n",
              "\n",
              "    [theme=dark] .colab-df-convert {\n",
              "      background-color: #3B4455;\n",
              "      fill: #D2E3FC;\n",
              "    }\n",
              "\n",
              "    [theme=dark] .colab-df-convert:hover {\n",
              "      background-color: #434B5C;\n",
              "      box-shadow: 0px 1px 3px 1px rgba(0, 0, 0, 0.15);\n",
              "      filter: drop-shadow(0px 1px 2px rgba(0, 0, 0, 0.3));\n",
              "      fill: #FFFFFF;\n",
              "    }\n",
              "  </style>\n",
              "\n",
              "      <script>\n",
              "        const buttonEl =\n",
              "          document.querySelector('#df-16d0a19d-b2c3-460b-bf65-96c1858010d3 button.colab-df-convert');\n",
              "        buttonEl.style.display =\n",
              "          google.colab.kernel.accessAllowed ? 'block' : 'none';\n",
              "\n",
              "        async function convertToInteractive(key) {\n",
              "          const element = document.querySelector('#df-16d0a19d-b2c3-460b-bf65-96c1858010d3');\n",
              "          const dataTable =\n",
              "            await google.colab.kernel.invokeFunction('convertToInteractive',\n",
              "                                                     [key], {});\n",
              "          if (!dataTable) return;\n",
              "\n",
              "          const docLinkHtml = 'Like what you see? Visit the ' +\n",
              "            '<a target=\"_blank\" href=https://colab.research.google.com/notebooks/data_table.ipynb>data table notebook</a>'\n",
              "            + ' to learn more about interactive tables.';\n",
              "          element.innerHTML = '';\n",
              "          dataTable['output_type'] = 'display_data';\n",
              "          await google.colab.output.renderOutput(dataTable, element);\n",
              "          const docLink = document.createElement('div');\n",
              "          docLink.innerHTML = docLinkHtml;\n",
              "          element.appendChild(docLink);\n",
              "        }\n",
              "      </script>\n",
              "    </div>\n",
              "  </div>\n",
              "  "
            ]
          },
          "metadata": {},
          "execution_count": 22
        }
      ]
    },
    {
      "cell_type": "code",
      "source": [
        "ratings.sample(5)"
      ],
      "metadata": {
        "colab": {
          "base_uri": "https://localhost:8080/",
          "height": 206
        },
        "id": "ESRhTBj7aaqH",
        "outputId": "0f4fcac3-c66b-482a-a5c9-54093959bcd7"
      },
      "execution_count": null,
      "outputs": [
        {
          "output_type": "execute_result",
          "data": {
            "text/plain": [
              "        userId  movieId  rating  timestamp\n",
              "999565    6037     3469       4  956709327\n",
              "876546    5294     1831       3  962763051\n",
              "669608    4024     1214       5  965518430\n",
              "91408      605     3408       4  975871874\n",
              "904505    5469     2819       4  959895993"
            ],
            "text/html": [
              "\n",
              "  <div id=\"df-01ad2071-c94f-4bca-a930-7fe2d0cb5320\">\n",
              "    <div class=\"colab-df-container\">\n",
              "      <div>\n",
              "<style scoped>\n",
              "    .dataframe tbody tr th:only-of-type {\n",
              "        vertical-align: middle;\n",
              "    }\n",
              "\n",
              "    .dataframe tbody tr th {\n",
              "        vertical-align: top;\n",
              "    }\n",
              "\n",
              "    .dataframe thead th {\n",
              "        text-align: right;\n",
              "    }\n",
              "</style>\n",
              "<table border=\"1\" class=\"dataframe\">\n",
              "  <thead>\n",
              "    <tr style=\"text-align: right;\">\n",
              "      <th></th>\n",
              "      <th>userId</th>\n",
              "      <th>movieId</th>\n",
              "      <th>rating</th>\n",
              "      <th>timestamp</th>\n",
              "    </tr>\n",
              "  </thead>\n",
              "  <tbody>\n",
              "    <tr>\n",
              "      <th>999565</th>\n",
              "      <td>6037</td>\n",
              "      <td>3469</td>\n",
              "      <td>4</td>\n",
              "      <td>956709327</td>\n",
              "    </tr>\n",
              "    <tr>\n",
              "      <th>876546</th>\n",
              "      <td>5294</td>\n",
              "      <td>1831</td>\n",
              "      <td>3</td>\n",
              "      <td>962763051</td>\n",
              "    </tr>\n",
              "    <tr>\n",
              "      <th>669608</th>\n",
              "      <td>4024</td>\n",
              "      <td>1214</td>\n",
              "      <td>5</td>\n",
              "      <td>965518430</td>\n",
              "    </tr>\n",
              "    <tr>\n",
              "      <th>91408</th>\n",
              "      <td>605</td>\n",
              "      <td>3408</td>\n",
              "      <td>4</td>\n",
              "      <td>975871874</td>\n",
              "    </tr>\n",
              "    <tr>\n",
              "      <th>904505</th>\n",
              "      <td>5469</td>\n",
              "      <td>2819</td>\n",
              "      <td>4</td>\n",
              "      <td>959895993</td>\n",
              "    </tr>\n",
              "  </tbody>\n",
              "</table>\n",
              "</div>\n",
              "      <button class=\"colab-df-convert\" onclick=\"convertToInteractive('df-01ad2071-c94f-4bca-a930-7fe2d0cb5320')\"\n",
              "              title=\"Convert this dataframe to an interactive table.\"\n",
              "              style=\"display:none;\">\n",
              "        \n",
              "  <svg xmlns=\"http://www.w3.org/2000/svg\" height=\"24px\"viewBox=\"0 0 24 24\"\n",
              "       width=\"24px\">\n",
              "    <path d=\"M0 0h24v24H0V0z\" fill=\"none\"/>\n",
              "    <path d=\"M18.56 5.44l.94 2.06.94-2.06 2.06-.94-2.06-.94-.94-2.06-.94 2.06-2.06.94zm-11 1L8.5 8.5l.94-2.06 2.06-.94-2.06-.94L8.5 2.5l-.94 2.06-2.06.94zm10 10l.94 2.06.94-2.06 2.06-.94-2.06-.94-.94-2.06-.94 2.06-2.06.94z\"/><path d=\"M17.41 7.96l-1.37-1.37c-.4-.4-.92-.59-1.43-.59-.52 0-1.04.2-1.43.59L10.3 9.45l-7.72 7.72c-.78.78-.78 2.05 0 2.83L4 21.41c.39.39.9.59 1.41.59.51 0 1.02-.2 1.41-.59l7.78-7.78 2.81-2.81c.8-.78.8-2.07 0-2.86zM5.41 20L4 18.59l7.72-7.72 1.47 1.35L5.41 20z\"/>\n",
              "  </svg>\n",
              "      </button>\n",
              "      \n",
              "  <style>\n",
              "    .colab-df-container {\n",
              "      display:flex;\n",
              "      flex-wrap:wrap;\n",
              "      gap: 12px;\n",
              "    }\n",
              "\n",
              "    .colab-df-convert {\n",
              "      background-color: #E8F0FE;\n",
              "      border: none;\n",
              "      border-radius: 50%;\n",
              "      cursor: pointer;\n",
              "      display: none;\n",
              "      fill: #1967D2;\n",
              "      height: 32px;\n",
              "      padding: 0 0 0 0;\n",
              "      width: 32px;\n",
              "    }\n",
              "\n",
              "    .colab-df-convert:hover {\n",
              "      background-color: #E2EBFA;\n",
              "      box-shadow: 0px 1px 2px rgba(60, 64, 67, 0.3), 0px 1px 3px 1px rgba(60, 64, 67, 0.15);\n",
              "      fill: #174EA6;\n",
              "    }\n",
              "\n",
              "    [theme=dark] .colab-df-convert {\n",
              "      background-color: #3B4455;\n",
              "      fill: #D2E3FC;\n",
              "    }\n",
              "\n",
              "    [theme=dark] .colab-df-convert:hover {\n",
              "      background-color: #434B5C;\n",
              "      box-shadow: 0px 1px 3px 1px rgba(0, 0, 0, 0.15);\n",
              "      filter: drop-shadow(0px 1px 2px rgba(0, 0, 0, 0.3));\n",
              "      fill: #FFFFFF;\n",
              "    }\n",
              "  </style>\n",
              "\n",
              "      <script>\n",
              "        const buttonEl =\n",
              "          document.querySelector('#df-01ad2071-c94f-4bca-a930-7fe2d0cb5320 button.colab-df-convert');\n",
              "        buttonEl.style.display =\n",
              "          google.colab.kernel.accessAllowed ? 'block' : 'none';\n",
              "\n",
              "        async function convertToInteractive(key) {\n",
              "          const element = document.querySelector('#df-01ad2071-c94f-4bca-a930-7fe2d0cb5320');\n",
              "          const dataTable =\n",
              "            await google.colab.kernel.invokeFunction('convertToInteractive',\n",
              "                                                     [key], {});\n",
              "          if (!dataTable) return;\n",
              "\n",
              "          const docLinkHtml = 'Like what you see? Visit the ' +\n",
              "            '<a target=\"_blank\" href=https://colab.research.google.com/notebooks/data_table.ipynb>data table notebook</a>'\n",
              "            + ' to learn more about interactive tables.';\n",
              "          element.innerHTML = '';\n",
              "          dataTable['output_type'] = 'display_data';\n",
              "          await google.colab.output.renderOutput(dataTable, element);\n",
              "          const docLink = document.createElement('div');\n",
              "          docLink.innerHTML = docLinkHtml;\n",
              "          element.appendChild(docLink);\n",
              "        }\n",
              "      </script>\n",
              "    </div>\n",
              "  </div>\n",
              "  "
            ]
          },
          "metadata": {},
          "execution_count": 23
        }
      ]
    },
    {
      "cell_type": "code",
      "source": [
        "movies.sample(5)"
      ],
      "metadata": {
        "colab": {
          "base_uri": "https://localhost:8080/",
          "height": 206
        },
        "id": "u_V2yv-Daxrw",
        "outputId": "7ab80280-dc8e-4903-a8c3-b95b1d445e67"
      },
      "execution_count": null,
      "outputs": [
        {
          "output_type": "execute_result",
          "data": {
            "text/plain": [
              "      movieId                                        title        genres\n",
              "3169     3238                   Eye of the Beholder (1999)      Thriller\n",
              "1685     1734      My Life in Pink (Ma vie en rose) (1997)  Comedy|Drama\n",
              "1658     1706                    Harlem River Drive (1996)         Drama\n",
              "3845     3915                             Girlfight (2000)         Drama\n",
              "2312     2381  Police Academy 4: Citizens on Patrol (1987)        Comedy"
            ],
            "text/html": [
              "\n",
              "  <div id=\"df-81236867-45bb-4171-99a5-ae4950fff166\">\n",
              "    <div class=\"colab-df-container\">\n",
              "      <div>\n",
              "<style scoped>\n",
              "    .dataframe tbody tr th:only-of-type {\n",
              "        vertical-align: middle;\n",
              "    }\n",
              "\n",
              "    .dataframe tbody tr th {\n",
              "        vertical-align: top;\n",
              "    }\n",
              "\n",
              "    .dataframe thead th {\n",
              "        text-align: right;\n",
              "    }\n",
              "</style>\n",
              "<table border=\"1\" class=\"dataframe\">\n",
              "  <thead>\n",
              "    <tr style=\"text-align: right;\">\n",
              "      <th></th>\n",
              "      <th>movieId</th>\n",
              "      <th>title</th>\n",
              "      <th>genres</th>\n",
              "    </tr>\n",
              "  </thead>\n",
              "  <tbody>\n",
              "    <tr>\n",
              "      <th>3169</th>\n",
              "      <td>3238</td>\n",
              "      <td>Eye of the Beholder (1999)</td>\n",
              "      <td>Thriller</td>\n",
              "    </tr>\n",
              "    <tr>\n",
              "      <th>1685</th>\n",
              "      <td>1734</td>\n",
              "      <td>My Life in Pink (Ma vie en rose) (1997)</td>\n",
              "      <td>Comedy|Drama</td>\n",
              "    </tr>\n",
              "    <tr>\n",
              "      <th>1658</th>\n",
              "      <td>1706</td>\n",
              "      <td>Harlem River Drive (1996)</td>\n",
              "      <td>Drama</td>\n",
              "    </tr>\n",
              "    <tr>\n",
              "      <th>3845</th>\n",
              "      <td>3915</td>\n",
              "      <td>Girlfight (2000)</td>\n",
              "      <td>Drama</td>\n",
              "    </tr>\n",
              "    <tr>\n",
              "      <th>2312</th>\n",
              "      <td>2381</td>\n",
              "      <td>Police Academy 4: Citizens on Patrol (1987)</td>\n",
              "      <td>Comedy</td>\n",
              "    </tr>\n",
              "  </tbody>\n",
              "</table>\n",
              "</div>\n",
              "      <button class=\"colab-df-convert\" onclick=\"convertToInteractive('df-81236867-45bb-4171-99a5-ae4950fff166')\"\n",
              "              title=\"Convert this dataframe to an interactive table.\"\n",
              "              style=\"display:none;\">\n",
              "        \n",
              "  <svg xmlns=\"http://www.w3.org/2000/svg\" height=\"24px\"viewBox=\"0 0 24 24\"\n",
              "       width=\"24px\">\n",
              "    <path d=\"M0 0h24v24H0V0z\" fill=\"none\"/>\n",
              "    <path d=\"M18.56 5.44l.94 2.06.94-2.06 2.06-.94-2.06-.94-.94-2.06-.94 2.06-2.06.94zm-11 1L8.5 8.5l.94-2.06 2.06-.94-2.06-.94L8.5 2.5l-.94 2.06-2.06.94zm10 10l.94 2.06.94-2.06 2.06-.94-2.06-.94-.94-2.06-.94 2.06-2.06.94z\"/><path d=\"M17.41 7.96l-1.37-1.37c-.4-.4-.92-.59-1.43-.59-.52 0-1.04.2-1.43.59L10.3 9.45l-7.72 7.72c-.78.78-.78 2.05 0 2.83L4 21.41c.39.39.9.59 1.41.59.51 0 1.02-.2 1.41-.59l7.78-7.78 2.81-2.81c.8-.78.8-2.07 0-2.86zM5.41 20L4 18.59l7.72-7.72 1.47 1.35L5.41 20z\"/>\n",
              "  </svg>\n",
              "      </button>\n",
              "      \n",
              "  <style>\n",
              "    .colab-df-container {\n",
              "      display:flex;\n",
              "      flex-wrap:wrap;\n",
              "      gap: 12px;\n",
              "    }\n",
              "\n",
              "    .colab-df-convert {\n",
              "      background-color: #E8F0FE;\n",
              "      border: none;\n",
              "      border-radius: 50%;\n",
              "      cursor: pointer;\n",
              "      display: none;\n",
              "      fill: #1967D2;\n",
              "      height: 32px;\n",
              "      padding: 0 0 0 0;\n",
              "      width: 32px;\n",
              "    }\n",
              "\n",
              "    .colab-df-convert:hover {\n",
              "      background-color: #E2EBFA;\n",
              "      box-shadow: 0px 1px 2px rgba(60, 64, 67, 0.3), 0px 1px 3px 1px rgba(60, 64, 67, 0.15);\n",
              "      fill: #174EA6;\n",
              "    }\n",
              "\n",
              "    [theme=dark] .colab-df-convert {\n",
              "      background-color: #3B4455;\n",
              "      fill: #D2E3FC;\n",
              "    }\n",
              "\n",
              "    [theme=dark] .colab-df-convert:hover {\n",
              "      background-color: #434B5C;\n",
              "      box-shadow: 0px 1px 3px 1px rgba(0, 0, 0, 0.15);\n",
              "      filter: drop-shadow(0px 1px 2px rgba(0, 0, 0, 0.3));\n",
              "      fill: #FFFFFF;\n",
              "    }\n",
              "  </style>\n",
              "\n",
              "      <script>\n",
              "        const buttonEl =\n",
              "          document.querySelector('#df-81236867-45bb-4171-99a5-ae4950fff166 button.colab-df-convert');\n",
              "        buttonEl.style.display =\n",
              "          google.colab.kernel.accessAllowed ? 'block' : 'none';\n",
              "\n",
              "        async function convertToInteractive(key) {\n",
              "          const element = document.querySelector('#df-81236867-45bb-4171-99a5-ae4950fff166');\n",
              "          const dataTable =\n",
              "            await google.colab.kernel.invokeFunction('convertToInteractive',\n",
              "                                                     [key], {});\n",
              "          if (!dataTable) return;\n",
              "\n",
              "          const docLinkHtml = 'Like what you see? Visit the ' +\n",
              "            '<a target=\"_blank\" href=https://colab.research.google.com/notebooks/data_table.ipynb>data table notebook</a>'\n",
              "            + ' to learn more about interactive tables.';\n",
              "          element.innerHTML = '';\n",
              "          dataTable['output_type'] = 'display_data';\n",
              "          await google.colab.output.renderOutput(dataTable, element);\n",
              "          const docLink = document.createElement('div');\n",
              "          docLink.innerHTML = docLinkHtml;\n",
              "          element.appendChild(docLink);\n",
              "        }\n",
              "      </script>\n",
              "    </div>\n",
              "  </div>\n",
              "  "
            ]
          },
          "metadata": {},
          "execution_count": 24
        }
      ]
    },
    {
      "cell_type": "code",
      "source": [
        "print('There are {} rows of data from {} users'.format(len(ratings), len(ratings.userId.unique())))"
      ],
      "metadata": {
        "colab": {
          "base_uri": "https://localhost:8080/"
        },
        "id": "tsJXku8Ua4o5",
        "outputId": "e8caa1ef-b873-4726-f20d-a8a52a0e5eea"
      },
      "execution_count": null,
      "outputs": [
        {
          "output_type": "stream",
          "name": "stdout",
          "text": [
            "There are 1000209 rows of data from 6040 users\n"
          ]
        }
      ]
    },
    {
      "cell_type": "markdown",
      "source": [
        "Let's do some preprocessing for out data.\n",
        "\n",
        "Prepare it as df and encode users and movies as integer indices.\n",
        "\n",
        "Here we used sklearn's LabelEncoder for this process."
      ],
      "metadata": {
        "id": "27wdykntk60i"
      }
    },
    {
      "cell_type": "code",
      "source": [
        "from sklearn.preprocessing import LabelEncoder\n",
        "\n",
        "def create_df(df):\n",
        "\n",
        "    # Encoding users and movies as integers\n",
        "    user_ids=df['userId'].unique().tolist()\n",
        "    user2user_encoded = {x: i for i, x in enumerate(user_ids)}\n",
        "    userencoded2user = {i: x for i, x in enumerate(user_ids)}\n",
        "    user_enc = LabelEncoder()\n",
        "    df['user'] = user_enc.fit_transform(df['userId'].values)\n",
        "    \n",
        "\n",
        "    movie_ids = df[\"movieId\"].unique().tolist()\n",
        "    movie2movie_encoded = {x: i for i, x in enumerate(movie_ids)}\n",
        "    movie_encoded2movie = {i: x for i, x in enumerate(movie_ids)}\n",
        "    movie_enc = LabelEncoder()\n",
        "    df['movie'] = movie_enc.fit_transform(df['movieId'].values)\n",
        "\n",
        "    # Number of unique users and movies\n",
        "    n_users = df['userId'].nunique()\n",
        "    n_movies = df['movieId'].nunique()\n",
        "\n",
        "    df['rating'] = df['rating'].values.astype(np.float32)\n",
        "\n",
        "    # Min and Max ratings from the database\n",
        "    # We will use these for normalization\n",
        "    min_rating = min(df['rating'])\n",
        "    max_rating = max(df['rating'])\n",
        "\n",
        "    return n_users, n_movies, min_rating, max_rating, user2user_encoded, userencoded2user, movie2movie_encoded, movie_encoded2movie, df\n",
        "\n"
      ],
      "metadata": {
        "id": "KLcsqUW3bCQg"
      },
      "execution_count": null,
      "outputs": []
    },
    {
      "cell_type": "code",
      "source": [
        "from sklearn.model_selection import train_test_split\n",
        "\n",
        "# Create our df by calling create_df function & create X,y for split\n",
        "n_users, n_movies, min_rating, max_rating, user2user_encoded, userencoded2user, movie2movie_encoded, movie_encoded2movie, df =create_df(ratings)\n",
        "\n",
        "X = df[['user', 'movie']].values\n",
        "y = df['rating'].values # our target\n",
        "\n",
        "\n",
        "# Split by %90-%10 for train and test as we have 1M row data. \n",
        "# Test will have 100k row data.\n",
        "# We could do %95-%5 but i prefer that way. As 50k row would be enough for test\n",
        "X_train, X_test, y_train, y_test = train_test_split(X, y, train_size=0.9, random_state=10)\n",
        "\n",
        "# We didn't normalize our target(y) for first try, we will do it later\n",
        "X_train.shape, X_test.shape, y_train.shape, y_test.shape"
      ],
      "metadata": {
        "colab": {
          "base_uri": "https://localhost:8080/"
        },
        "id": "ZE98ahtjbxOW",
        "outputId": "e07e7920-1615-4970-b1f8-a4804361f638"
      },
      "execution_count": null,
      "outputs": [
        {
          "output_type": "execute_result",
          "data": {
            "text/plain": [
              "((900188, 2), (100021, 2), (900188,), (100021,))"
            ]
          },
          "metadata": {},
          "execution_count": 27
        }
      ]
    },
    {
      "cell_type": "code",
      "source": [
        "print(f'Embeddings: {n_users} users, {n_movies} movies')\n",
        "print(f'Dataset(user&movie ids) shape: {df.shape}')\n",
        "print(f'Target(ratings) shape: {y.shape}')\n",
        "\n",
        "print(f'We will use user and movie as features and rating as the target of our embedding based model.')"
      ],
      "metadata": {
        "colab": {
          "base_uri": "https://localhost:8080/"
        },
        "id": "D18YONdZeB5n",
        "outputId": "3febd0c6-c589-460b-d770-b5733c1f2d83"
      },
      "execution_count": null,
      "outputs": [
        {
          "output_type": "stream",
          "name": "stdout",
          "text": [
            "Embeddings: 6040 users, 3706 movies\n",
            "Dataset(user&movie ids) shape: (1000209, 6)\n",
            "Target(ratings) shape: (1000209,)\n",
            "We will use user and movie as features and rating as the target of our embedding based model.\n"
          ]
        }
      ]
    },
    {
      "cell_type": "markdown",
      "source": [
        "Now we will start our collaborative filtering model\n",
        "\n",
        "Importing tensorflow and keras"
      ],
      "metadata": {
        "id": "D2BT42yZlZHx"
      }
    },
    {
      "cell_type": "code",
      "source": [
        "import tensorflow as tf\n",
        "from tensorflow import keras\n",
        "from tensorflow.keras import layers\n",
        "from tensorflow.keras.optimizers import Adam\n",
        "\n",
        "from keras.models import Model\n",
        "from keras.layers import Input, Reshape, Dot\n",
        "from keras.regularizers import l2\n",
        "\n",
        "import matplotlib.pyplot as plt\n",
        "\n",
        "# Make users and movies into separate arrays in the training and test data for Keras input\n",
        "X_train_array = [X_train[:, 0], X_train[:, 1]]\n",
        "X_test_array = [X_test[:, 0], X_test[:, 1]]\n",
        "\n",
        "# EmbeddingLayer as a calling class\n",
        "class EmbeddingLayer:\n",
        "    def __init__(self, n_items, n_factors):\n",
        "        self.n_items = n_items\n",
        "        self.n_factors = n_factors\n",
        "    \n",
        "    def __call__(self, Embedded):\n",
        "        Embedded = layers.Embedding(self.n_items, \n",
        "                             self.n_factors, \n",
        "                             embeddings_initializer='he_normal',\n",
        "                             embeddings_regularizer=l2(1e-6))(Embedded)\n",
        "        Embedded = Reshape((self.n_factors,))(Embedded)\n",
        "        return Embedded\n",
        "\n",
        "\n",
        "def rec_Model(n_users, n_movies, embedding_size=50):\n",
        "    #Creating an embedding layer having embedding vectors of user and item ids.\n",
        "    user = Input(shape=(1,))\n",
        "    u = EmbeddingLayer(n_users, embedding_size)(user)\n",
        "        \n",
        "    movie = Input(shape=(1,))\n",
        "    m = EmbeddingLayer(n_movies, embedding_size)(movie)\n",
        "    \n",
        "    # Dot product for interactions between users and items\n",
        "    interaction = Dot(axes=1)([u, m])\n",
        "\n",
        "    # We used Adam for optimizer as learning_rate=0.001\n",
        "    rec_model = Model(inputs=[user, movie], outputs=interaction)\n",
        "    opt = Adam(learning_rate=0.001)\n",
        "\n",
        "    # Computing loss as mean squared error\n",
        "    rec_model.compile(loss='mean_squared_error', optimizer=opt)\n",
        "\n",
        "    return rec_model #recommender model "
      ],
      "metadata": {
        "id": "4iCkGI-3eYY2"
      },
      "execution_count": null,
      "outputs": []
    },
    {
      "cell_type": "code",
      "source": [
        "model = rec_Model(n_users, n_movies)\n",
        "model.summary()"
      ],
      "metadata": {
        "colab": {
          "base_uri": "https://localhost:8080/"
        },
        "id": "fwICO7l5gyab",
        "outputId": "4bdf674c-a6e2-4b28-f488-6654a048936d"
      },
      "execution_count": null,
      "outputs": [
        {
          "output_type": "stream",
          "name": "stdout",
          "text": [
            "Model: \"model\"\n",
            "__________________________________________________________________________________________________\n",
            " Layer (type)                   Output Shape         Param #     Connected to                     \n",
            "==================================================================================================\n",
            " input_1 (InputLayer)           [(None, 1)]          0           []                               \n",
            "                                                                                                  \n",
            " input_2 (InputLayer)           [(None, 1)]          0           []                               \n",
            "                                                                                                  \n",
            " embedding (Embedding)          (None, 1, 50)        302000      ['input_1[0][0]']                \n",
            "                                                                                                  \n",
            " embedding_1 (Embedding)        (None, 1, 50)        185300      ['input_2[0][0]']                \n",
            "                                                                                                  \n",
            " reshape (Reshape)              (None, 50)           0           ['embedding[0][0]']              \n",
            "                                                                                                  \n",
            " reshape_1 (Reshape)            (None, 50)           0           ['embedding_1[0][0]']            \n",
            "                                                                                                  \n",
            " dot (Dot)                      (None, 1)            0           ['reshape[0][0]',                \n",
            "                                                                  'reshape_1[0][0]']              \n",
            "                                                                                                  \n",
            "==================================================================================================\n",
            "Total params: 487,300\n",
            "Trainable params: 487,300\n",
            "Non-trainable params: 0\n",
            "__________________________________________________________________________________________________\n"
          ]
        }
      ]
    },
    {
      "cell_type": "code",
      "source": [
        "history1 = model.fit(x=X_train_array, \n",
        "                      y=y_train, \n",
        "                      batch_size=1000, \n",
        "                      epochs=10, \n",
        "                      verbose=1, \n",
        "                      validation_data=[X_test_array, y_test])"
      ],
      "metadata": {
        "colab": {
          "base_uri": "https://localhost:8080/"
        },
        "id": "uiU0GB8Eg9dm",
        "outputId": "78931f61-8011-4029-dd90-35223ec2c7e1"
      },
      "execution_count": null,
      "outputs": [
        {
          "output_type": "stream",
          "name": "stdout",
          "text": [
            "Epoch 1/10\n",
            "901/901 [==============================] - 7s 7ms/step - loss: 6.4116 - val_loss: 1.1369\n",
            "Epoch 2/10\n",
            "901/901 [==============================] - 6s 7ms/step - loss: 0.9597 - val_loss: 0.8906\n",
            "Epoch 3/10\n",
            "901/901 [==============================] - 6s 6ms/step - loss: 0.8620 - val_loss: 0.8538\n",
            "Epoch 4/10\n",
            "901/901 [==============================] - 6s 6ms/step - loss: 0.8322 - val_loss: 0.8352\n",
            "Epoch 5/10\n",
            "901/901 [==============================] - 6s 6ms/step - loss: 0.8124 - val_loss: 0.8217\n",
            "Epoch 6/10\n",
            "901/901 [==============================] - 6s 7ms/step - loss: 0.7948 - val_loss: 0.8125\n",
            "Epoch 7/10\n",
            "901/901 [==============================] - 6s 6ms/step - loss: 0.7772 - val_loss: 0.8020\n",
            "Epoch 8/10\n",
            "901/901 [==============================] - 6s 6ms/step - loss: 0.7607 - val_loss: 0.7957\n",
            "Epoch 9/10\n",
            "901/901 [==============================] - 6s 6ms/step - loss: 0.7463 - val_loss: 0.7899\n",
            "Epoch 10/10\n",
            "901/901 [==============================] - 6s 6ms/step - loss: 0.7318 - val_loss: 0.7830\n"
          ]
        }
      ]
    },
    {
      "cell_type": "code",
      "source": [
        "plt.plot(history1.history[\"loss\"])\n",
        "plt.plot(history1.history[\"val_loss\"])\n",
        "plt.title(\"model loss\")\n",
        "plt.ylabel(\"loss\")\n",
        "plt.xlabel(\"epoch\")\n",
        "plt.legend([\"train\", \"test\"], loc=\"upper left\")\n",
        "plt.show()"
      ],
      "metadata": {
        "colab": {
          "base_uri": "https://localhost:8080/",
          "height": 295
        },
        "id": "J6htg0l9hIww",
        "outputId": "86d6b218-540d-42fa-fad8-07aa848f954e"
      },
      "execution_count": null,
      "outputs": [
        {
          "output_type": "display_data",
          "data": {
            "text/plain": [
              "<Figure size 432x288 with 1 Axes>"
            ],
            "image/png": "[encoded data removed]"
          },
          "metadata": {
            "needs_background": "light"
          }
        }
      ]
    },
    {
      "cell_type": "code",
      "source": [
        ""
      ],
      "metadata": {
        "id": "4HfvlDxqhL84"
      },
      "execution_count": null,
      "outputs": []
    },
    {
      "cell_type": "code",
      "source": [
        ""
      ],
      "metadata": {
        "id": "VnScgFlKhMd6"
      },
      "execution_count": null,
      "outputs": []
    },
    {
      "cell_type": "markdown",
      "source": [
        "Now we add neural network to our model with a dropout and concatenatation\n",
        "\n",
        "Actually I tried with more dense layers and dropouts but it didn't further improve our score"
      ],
      "metadata": {
        "id": "enZKwGpqhNDT"
      }
    },
    {
      "cell_type": "code",
      "source": [
        "from keras.layers import Activation, Concatenate, Dense, Dropout\n",
        "from keras import backend\n",
        "def rmse(y_true, y_pred):\n",
        "\treturn backend.sqrt(backend.mean(backend.square(y_pred - y_true), axis=-1))\n",
        " \n",
        "\n",
        "\n",
        "def NNmodel(n_users, n_movies, embedding_size=50):\n",
        "    user = Input(shape=(1,))\n",
        "    u = EmbeddingLayer(n_users, embedding_size)(user)\n",
        "    \n",
        "    movie = Input(shape=(1,))\n",
        "    m = EmbeddingLayer(n_movies, embedding_size)(movie)\n",
        "    \n",
        "    # Concat on the embedding layers and dropout layer\n",
        "    interaction = Concatenate()([u, m])\n",
        "    interaction = Dropout(0.05)(interaction)\n",
        "\n",
        "    # Dense layer with relu and sigmoid activation functions for interaction    \n",
        "    interaction = Dense(10, kernel_initializer='he_normal')(interaction)\n",
        "    interaction = Activation('relu')(interaction)\n",
        "    interaction = Dropout(0.5)(interaction)\n",
        "    \n",
        "    interaction = Dense(1, kernel_initializer='he_normal')(interaction)\n",
        "    interaction = Activation('sigmoid')(interaction)\n",
        "\n",
        "    # Again used Adam with lr=0.001\n",
        "    NNmodel = Model(inputs=[user, movie], outputs=interaction)\n",
        "    opt = Adam(learning_rate=0.001)\n",
        "    NNmodel.compile(loss='mean_squared_error', optimizer=opt, metrics=['accuracy',rmse])\n",
        "\n",
        "    return NNmodel"
      ],
      "metadata": {
        "id": "4opbi99DhNW2"
      },
      "execution_count": 60,
      "outputs": []
    },
    {
      "cell_type": "code",
      "source": [
        "model2 = NNmodel(n_users, n_movies)\n",
        "model2.summary()"
      ],
      "metadata": {
        "colab": {
          "base_uri": "https://localhost:8080/"
        },
        "id": "yqZeuXeSjtKb",
        "outputId": "fc779817-1689-48c8-c158-92a7b5eb19db"
      },
      "execution_count": null,
      "outputs": [
        {
          "output_type": "stream",
          "name": "stdout",
          "text": [
            "Model: \"model_1\"\n",
            "__________________________________________________________________________________________________\n",
            " Layer (type)                   Output Shape         Param #     Connected to                     \n",
            "==================================================================================================\n",
            " input_3 (InputLayer)           [(None, 1)]          0           []                               \n",
            "                                                                                                  \n",
            " input_4 (InputLayer)           [(None, 1)]          0           []                               \n",
            "                                                                                                  \n",
            " embedding_2 (Embedding)        (None, 1, 50)        302000      ['input_3[0][0]']                \n",
            "                                                                                                  \n",
            " embedding_3 (Embedding)        (None, 1, 50)        185300      ['input_4[0][0]']                \n",
            "                                                                                                  \n",
            " reshape_2 (Reshape)            (None, 50)           0           ['embedding_2[0][0]']            \n",
            "                                                                                                  \n",
            " reshape_3 (Reshape)            (None, 50)           0           ['embedding_3[0][0]']            \n",
            "                                                                                                  \n",
            " concatenate (Concatenate)      (None, 100)          0           ['reshape_2[0][0]',              \n",
            "                                                                  'reshape_3[0][0]']              \n",
            "                                                                                                  \n",
            " dropout (Dropout)              (None, 100)          0           ['concatenate[0][0]']            \n",
            "                                                                                                  \n",
            " dense (Dense)                  (None, 10)           1010        ['dropout[0][0]']                \n",
            "                                                                                                  \n",
            " activation (Activation)        (None, 10)           0           ['dense[0][0]']                  \n",
            "                                                                                                  \n",
            " dropout_1 (Dropout)            (None, 10)           0           ['activation[0][0]']             \n",
            "                                                                                                  \n",
            " dense_1 (Dense)                (None, 1)            11          ['dropout_1[0][0]']              \n",
            "                                                                                                  \n",
            " activation_1 (Activation)      (None, 1)            0           ['dense_1[0][0]']                \n",
            "                                                                                                  \n",
            "==================================================================================================\n",
            "Total params: 488,321\n",
            "Trainable params: 488,321\n",
            "Non-trainable params: 0\n",
            "__________________________________________________________________________________________________\n"
          ]
        }
      ]
    },
    {
      "cell_type": "code",
      "source": [
        "history2 = model2.fit(x=X_train_array, \n",
        "                      y=y_train, \n",
        "                      batch_size=1000, \n",
        "                      epochs=10, \n",
        "                      verbose=1, \n",
        "                      validation_data=(X_test_array, y_test))"
      ],
      "metadata": {
        "colab": {
          "base_uri": "https://localhost:8080/"
        },
        "id": "P-gBj3ytjcgz",
        "outputId": "14bb32c1-e62f-4ad0-d144-8fde09c50a32"
      },
      "execution_count": null,
      "outputs": [
        {
          "output_type": "stream",
          "name": "stdout",
          "text": [
            "Epoch 1/10\n",
            "901/901 [==============================] - 9s 9ms/step - loss: 8.5203 - val_loss: 7.8889\n",
            "Epoch 2/10\n",
            "901/901 [==============================] - 8s 9ms/step - loss: 8.1668 - val_loss: 7.8882\n",
            "Epoch 3/10\n",
            "901/901 [==============================] - 8s 9ms/step - loss: 8.0910 - val_loss: 7.8879\n",
            "Epoch 4/10\n",
            "901/901 [==============================] - 8s 9ms/step - loss: 8.0322 - val_loss: 7.8874\n",
            "Epoch 5/10\n",
            "901/901 [==============================] - 8s 9ms/step - loss: 7.9912 - val_loss: 7.8869\n",
            "Epoch 6/10\n",
            "901/901 [==============================] - 8s 9ms/step - loss: 7.9645 - val_loss: 7.8864\n",
            "Epoch 7/10\n",
            "901/901 [==============================] - 8s 9ms/step - loss: 7.9480 - val_loss: 7.8860\n",
            "Epoch 8/10\n",
            "901/901 [==============================] - 8s 9ms/step - loss: 7.9370 - val_loss: 7.8857\n",
            "Epoch 9/10\n",
            "901/901 [==============================] - 8s 9ms/step - loss: 7.9300 - val_loss: 7.8855\n",
            "Epoch 10/10\n",
            "901/901 [==============================] - 8s 8ms/step - loss: 7.9252 - val_loss: 7.8854\n"
          ]
        }
      ]
    },
    {
      "cell_type": "code",
      "source": [
        "plt.plot(history2.history[\"loss\"])\n",
        "plt.plot(history2.history[\"val_loss\"])\n",
        "plt.title(\"model loss\")\n",
        "plt.ylabel(\"loss\")\n",
        "plt.xlabel(\"epoch\")\n",
        "plt.legend([\"train\", \"test\"], loc=\"upper left\")\n",
        "plt.show()"
      ],
      "metadata": {
        "id": "Yv91s48vj4ho",
        "colab": {
          "base_uri": "https://localhost:8080/",
          "height": 295
        },
        "outputId": "cdfb61d0-649b-4c94-fa48-542f52a85bef"
      },
      "execution_count": null,
      "outputs": [
        {
          "output_type": "display_data",
          "data": {
            "text/plain": [
              "<Figure size 432x288 with 1 Axes>"
            ],
            "image/png": "[encoded data removed]"
          },
          "metadata": {
            "needs_background": "light"
          }
        }
      ]
    },
    {
      "cell_type": "markdown",
      "source": [
        "Now final trick\n",
        "\n",
        "We will try to normalize our target and let's see what will our NNmodel do\n",
        "\n",
        "Normalize the target between 0 and 1. Makes it easy to train."
      ],
      "metadata": {
        "id": "EYH-gkm4lken"
      }
    },
    {
      "cell_type": "code",
      "source": [
        "y2 = df[\"rating\"].apply(lambda x: (x - min_rating) / (max_rating - min_rating)).values\n",
        "\n",
        "# Again split data\n",
        "X_train, X_test, y2_train, y2_test = train_test_split(X, y2, train_size=0.9, random_state=10)\n",
        "\n",
        "X_train.shape, X_test.shape, y2_train.shape, y2_test.shape"
      ],
      "metadata": {
        "colab": {
          "base_uri": "https://localhost:8080/"
        },
        "id": "Sa4Dxycxj53B",
        "outputId": "9edbe339-7672-4af0-b84a-3891b61e1890"
      },
      "execution_count": null,
      "outputs": [
        {
          "output_type": "execute_result",
          "data": {
            "text/plain": [
              "((900188, 2), (100021, 2), (900188,), (100021,))"
            ]
          },
          "metadata": {},
          "execution_count": 37
        }
      ]
    },
    {
      "cell_type": "code",
      "source": [
        "model3 = NNmodel(n_users, n_movies)\n",
        "model3.summary()"
      ],
      "metadata": {
        "colab": {
          "base_uri": "https://localhost:8080/"
        },
        "id": "Qopx0pBSkU76",
        "outputId": "d65aef87-065d-4320-ab6d-47ef9fbe3c12"
      },
      "execution_count": 61,
      "outputs": [
        {
          "output_type": "stream",
          "name": "stdout",
          "text": [
            "Model: \"model_7\"\n",
            "__________________________________________________________________________________________________\n",
            " Layer (type)                   Output Shape         Param #     Connected to                     \n",
            "==================================================================================================\n",
            " input_15 (InputLayer)          [(None, 1)]          0           []                               \n",
            "                                                                                                  \n",
            " input_16 (InputLayer)          [(None, 1)]          0           []                               \n",
            "                                                                                                  \n",
            " embedding_14 (Embedding)       (None, 1, 50)        302000      ['input_15[0][0]']               \n",
            "                                                                                                  \n",
            " embedding_15 (Embedding)       (None, 1, 50)        185300      ['input_16[0][0]']               \n",
            "                                                                                                  \n",
            " reshape_14 (Reshape)           (None, 50)           0           ['embedding_14[0][0]']           \n",
            "                                                                                                  \n",
            " reshape_15 (Reshape)           (None, 50)           0           ['embedding_15[0][0]']           \n",
            "                                                                                                  \n",
            " concatenate_6 (Concatenate)    (None, 100)          0           ['reshape_14[0][0]',             \n",
            "                                                                  'reshape_15[0][0]']             \n",
            "                                                                                                  \n",
            " dropout_12 (Dropout)           (None, 100)          0           ['concatenate_6[0][0]']          \n",
            "                                                                                                  \n",
            " dense_12 (Dense)               (None, 10)           1010        ['dropout_12[0][0]']             \n",
            "                                                                                                  \n",
            " activation_12 (Activation)     (None, 10)           0           ['dense_12[0][0]']               \n",
            "                                                                                                  \n",
            " dropout_13 (Dropout)           (None, 10)           0           ['activation_12[0][0]']          \n",
            "                                                                                                  \n",
            " dense_13 (Dense)               (None, 1)            11          ['dropout_13[0][0]']             \n",
            "                                                                                                  \n",
            " activation_13 (Activation)     (None, 1)            0           ['dense_13[0][0]']               \n",
            "                                                                                                  \n",
            "==================================================================================================\n",
            "Total params: 488,321\n",
            "Trainable params: 488,321\n",
            "Non-trainable params: 0\n",
            "__________________________________________________________________________________________________\n"
          ]
        }
      ]
    },
    {
      "cell_type": "code",
      "source": [
        "history3 = model3.fit(x=X_train_array, \n",
        "                      y=y2_train, \n",
        "                      batch_size=1000, \n",
        "                      epochs=5, \n",
        "                      verbose=1, \n",
        "                      validation_data=(X_test_array, y2_test))"
      ],
      "metadata": {
        "colab": {
          "base_uri": "https://localhost:8080/"
        },
        "id": "7iH18TUvkXwG",
        "outputId": "478f4855-e104-407c-fb45-a955f88aa2fd"
      },
      "execution_count": 62,
      "outputs": [
        {
          "output_type": "stream",
          "name": "stdout",
          "text": [
            "Epoch 1/5\n",
            "901/901 [==============================] - 10s 10ms/step - loss: 0.0602 - accuracy: 0.2460 - rmse: 0.1952 - val_loss: 0.0526 - val_accuracy: 0.2563 - val_rmse: 0.1814\n",
            "Epoch 2/5\n",
            "901/901 [==============================] - 8s 9ms/step - loss: 0.0561 - accuracy: 0.2500 - rmse: 0.1872 - val_loss: 0.0524 - val_accuracy: 0.2559 - val_rmse: 0.1807\n",
            "Epoch 3/5\n",
            "901/901 [==============================] - 8s 9ms/step - loss: 0.0557 - accuracy: 0.2505 - rmse: 0.1865 - val_loss: 0.0524 - val_accuracy: 0.2560 - val_rmse: 0.1805\n",
            "Epoch 4/5\n",
            "901/901 [==============================] - 8s 9ms/step - loss: 0.0557 - accuracy: 0.2505 - rmse: 0.1863 - val_loss: 0.0521 - val_accuracy: 0.2564 - val_rmse: 0.1798\n",
            "Epoch 5/5\n",
            "901/901 [==============================] - 8s 9ms/step - loss: 0.0556 - accuracy: 0.2505 - rmse: 0.1859 - val_loss: 0.0521 - val_accuracy: 0.2562 - val_rmse: 0.1801\n"
          ]
        }
      ]
    },
    {
      "cell_type": "code",
      "source": [
        "plt.plot(history3.history[\"loss\"])\n",
        "plt.plot(history3.history[\"val_loss\"])\n",
        "plt.title(\"model loss\")\n",
        "plt.ylabel(\"loss\")\n",
        "plt.xlabel(\"epoch\")\n",
        "plt.legend([\"train\", \"test\"], loc=\"upper left\")\n",
        "plt.show()"
      ],
      "metadata": {
        "colab": {
          "base_uri": "https://localhost:8080/",
          "height": 295
        },
        "id": "5Op8uOntkk8P",
        "outputId": "0407526a-cfd0-4dbc-df34-d4a1ea036f67"
      },
      "execution_count": 65,
      "outputs": [
        {
          "output_type": "display_data",
          "data": {
            "text/plain": [
              "<Figure size 432x288 with 1 Axes>"
            ],
            "image/png": "[encoded data removed]"
          },
          "metadata": {
            "needs_background": "light"
          }
        }
      ]
    },
    {
      "cell_type": "markdown",
      "source": [
        "Our loss dropped from 0.79 to 0.051 and with only just 5 epochs\n",
        "\n",
        "> Girintili blok\n",
        "\n"
      ],
      "metadata": {
        "id": "J2Cggrb_l0v8"
      }
    },
    {
      "cell_type": "markdown",
      "source": [
        "## Movie Recommendation For a User By Our Model"
      ],
      "metadata": {
        "id": "BO137zHEw0Az"
      }
    },
    {
      "cell_type": "code",
      "source": [
        "# Let us get a random user and see the top recommendations for that user\n",
        "user_id = df.userId.sample(1).iloc[0]\n",
        "\n",
        "# We need movies df this time\n",
        "movie_df=movies\n",
        "movies_watched_by_user = df[df.userId == user_id]\n",
        "\n",
        "# We have movies watched by user, so we need movies not watched\n",
        "movies_not_watched = movie_df[~movie_df[\"movieId\"].isin(movies_watched_by_user.movieId.values)][\"movieId\"]\n",
        "movies_not_watched2 = list(set(movies_not_watched).intersection(set(movie2movie_encoded.keys())))\n",
        "movies_not_watched3 = [[movie2movie_encoded.get(x)] for x in movies_not_watched2]\n",
        "\n",
        "# Prepare user movie array for model prediction\n",
        "user_encoder = user2user_encoded.get(user_id)\n",
        "user_movie_array = np.hstack(([[user_encoder]] * len(movies_not_watched3), movies_not_watched3))\n",
        "user_movie_array2= [user_movie_array[:, 0], user_movie_array[:, 1]]\n",
        "\n",
        "# Predict movies for user to recommend\n",
        "ratings_for_user= model3.predict(user_movie_array2).flatten()\n",
        "\n",
        "# Sort predicted movies\n",
        "top_ratings_indices = ratings_for_user.argsort(axis=0)[-5:][::-1]\n",
        "\n",
        "# Get movie ids\n",
        "recommended_movie_ids = [movie_encoded2movie.get(movies_not_watched3[x][0]) for x in top_ratings_indices]\n",
        "\n",
        "\n",
        "# Print movies which are recommended by our model\n",
        "print(\"----\" * 11)\n",
        "print(f\"Top 5 movie recommendations for user: {user_id}\")\n",
        "print(\"----\" * 11)\n",
        "recommended_movies = movie_df[movie_df[\"movieId\"].isin(recommended_movie_ids)]\n",
        "for row in recommended_movies.itertuples():\n",
        "    print(row.title, \":\", row.genres)\n"
      ],
      "metadata": {
        "colab": {
          "base_uri": "https://localhost:8080/"
        },
        "id": "HuT4qYEJ4JSJ",
        "outputId": "a335ca50-c9cf-44c4-b917-9eb297590a72"
      },
      "execution_count": null,
      "outputs": [
        {
          "output_type": "stream",
          "name": "stdout",
          "text": [
            "--------------------------------------------\n",
            "Top 5 movie recommendations for user: 1153\n",
            "--------------------------------------------\n",
            "GoldenEye (1995) : Action|Adventure|Thriller\n",
            "Secret Garden, The (1993) : Children's|Drama\n",
            "Heavy (1995) : Drama|Romance\n",
            "Deer Hunter, The (1978) : Drama|War\n",
            "Fast, Cheap & Out of Control (1997) : Documentary\n"
          ]
        }
      ]
    },
    {
      "cell_type": "code",
      "source": [
        "from matplotlib import pyplot\n",
        "pyplot.plot(history3.history['rmse'])\n",
        "pyplot.show()"
      ],
      "metadata": {
        "colab": {
          "base_uri": "https://localhost:8080/",
          "height": 265
        },
        "id": "pvz3cTeOtsBt",
        "outputId": "3bfe340f-8398-479b-87da-c32b1a5c403d"
      },
      "execution_count": 63,
      "outputs": [
        {
          "output_type": "display_data",
          "data": {
            "text/plain": [
              "<Figure size 432x288 with 1 Axes>"
            ],
            "image/png": "[encoded data removed]"
          },
          "metadata": {
            "needs_background": "light"
          }
        }
      ]
    },
    {
      "cell_type": "code",
      "source": [
        "pyplot.plot(history3.history['accuracy'])\n",
        "pyplot.show()"
      ],
      "metadata": {
        "colab": {
          "base_uri": "https://localhost:8080/",
          "height": 265
        },
        "id": "oP7g-LXdwsIK",
        "outputId": "9354b399-b24e-46a0-9a96-361cd48eedd5"
      },
      "execution_count": 64,
      "outputs": [
        {
          "output_type": "display_data",
          "data": {
            "text/plain": [
              "<Figure size 432x288 with 1 Axes>"
            ],
            "image/png": "[encoded data removed]"
          },
          "metadata": {
            "needs_background": "light"
          }
        }
      ]
    }
  ]
}